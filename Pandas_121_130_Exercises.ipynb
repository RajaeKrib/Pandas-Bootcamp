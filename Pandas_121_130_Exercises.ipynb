{
 "cells": [
  {
   "cell_type": "markdown",
   "metadata": {
    "id": "WLEgCW5F1hho"
   },
   "source": [
    "## Pandas\n",
    "\n",
    "### Table of contents:\n",
    "* [Import biblioteki](#0)\n",
    "* [Exercise 121](#1)\n",
    "* [Exercise 122](#2)\n",
    "* [Exercise 123](#3)\n",
    "* [Exercise 124](#4)\n",
    "* [Exercise 125](#5)\n",
    "* [Exercise 126](#6)\n",
    "* [Exercise 127](#7)\n",
    "* [Exercise 128](#8)\n",
    "* [Exercise 129](#9)\n",
    "* [Exercise 130](#10)"
   ]
  },
  {
   "cell_type": "markdown",
   "metadata": {
    "id": "zeLOLmTj1kBM"
   },
   "source": [
    "### <a name='0'></a> Import of libraries"
   ]
  },
  {
   "cell_type": "code",
   "execution_count": 1,
   "metadata": {
    "id": "HXMB7SMe1Wnz"
   },
   "outputs": [
    {
     "data": {
      "text/plain": [
       "'1.19.2'"
      ]
     },
     "execution_count": 1,
     "metadata": {},
     "output_type": "execute_result"
    }
   ],
   "source": [
    "import numpy as np\n",
    "import pandas as pd\n",
    "import seaborn as sns\n",
    "\n",
    "sns.set()\n",
    "np.__version__"
   ]
  },
  {
   "cell_type": "markdown",
   "metadata": {
    "id": "XHC7OOdSWAp-"
   },
   "source": [
    "The _fetch_financial_data()_ function fetches data on listed companies. It will be used in the following exercises. To download data of a specific company, you must provide the ticker (symbol) of the company.\n",
    "\n",
    "Some sample company tickers:\n",
    "* AMZN - Amazon\n",
    "* GOOGL - Google\n",
    "* MSFT - Microsoft\n",
    "* AAPL - Apple\n",
    "* NKE - Nike\n",
    "* WMT - Walmart"
   ]
  },
  {
   "cell_type": "code",
   "execution_count": 2,
   "metadata": {
    "id": "Cco5py75WIi3"
   },
   "outputs": [],
   "source": [
    "def fetch_financial_data(company='AMZN'):\n",
    "    \"\"\" This function fetches stock market quotations. \"\"\"\n",
    "    import pandas_datareader.data as web\n",
    "    return web.DataReader(name=company, data_source='stooq')"
   ]
  },
  {
   "cell_type": "markdown",
   "metadata": {
    "id": "cyc70pMe1oCg"
   },
   "source": [
    "### <a name='1'></a> Exercise 121\n",
    "Using the _fetch_financial_data()_ function, download Google (Alphabet) quotes and assign to the variable _google_. Display object _google_."
   ]
  },
  {
   "cell_type": "code",
   "execution_count": 37,
   "metadata": {
    "id": "-X_EmE0yWZJy"
   },
   "outputs": [],
   "source": [
    "google = fetch_financial_data('GOOGL')"
   ]
  },
  {
   "cell_type": "markdown",
   "metadata": {
    "id": "J9pY1rtr1sC0"
   },
   "source": [
    "### <a name='2'></a> Exercise 122\n",
    "Display basic information about _google_ object."
   ]
  },
  {
   "cell_type": "code",
   "execution_count": 4,
   "metadata": {
    "id": "jYe-jwFgWhRj"
   },
   "outputs": [
    {
     "name": "stdout",
     "output_type": "stream",
     "text": [
      "<class 'pandas.core.frame.DataFrame'>\n",
      "DatetimeIndex: 1258 entries, 2021-06-03 to 2016-06-06\n",
      "Data columns (total 5 columns):\n",
      " #   Column  Non-Null Count  Dtype  \n",
      "---  ------  --------------  -----  \n",
      " 0   Open    1258 non-null   float64\n",
      " 1   High    1258 non-null   float64\n",
      " 2   Low     1258 non-null   float64\n",
      " 3   Close   1258 non-null   float64\n",
      " 4   Volume  1258 non-null   int64  \n",
      "dtypes: float64(4), int64(1)\n",
      "memory usage: 59.0 KB\n"
     ]
    },
    {
     "data": {
      "text/plain": [
       "None"
      ]
     },
     "metadata": {},
     "output_type": "display_data"
    }
   ],
   "source": [
    "display(google.info())"
   ]
  },
  {
   "cell_type": "markdown",
   "metadata": {
    "id": "qXa0-U9nWkUy"
   },
   "source": [
    "Display basic statistics for _google_."
   ]
  },
  {
   "cell_type": "code",
   "execution_count": 5,
   "metadata": {
    "id": "wOPx2ufcWnMl"
   },
   "outputs": [
    {
     "data": {
      "text/html": [
       "<div>\n",
       "<style scoped>\n",
       "    .dataframe tbody tr th:only-of-type {\n",
       "        vertical-align: middle;\n",
       "    }\n",
       "\n",
       "    .dataframe tbody tr th {\n",
       "        vertical-align: top;\n",
       "    }\n",
       "\n",
       "    .dataframe thead th {\n",
       "        text-align: right;\n",
       "    }\n",
       "</style>\n",
       "<table border=\"1\" class=\"dataframe\">\n",
       "  <thead>\n",
       "    <tr style=\"text-align: right;\">\n",
       "      <th></th>\n",
       "      <th>Open</th>\n",
       "      <th>High</th>\n",
       "      <th>Low</th>\n",
       "      <th>Close</th>\n",
       "      <th>Volume</th>\n",
       "    </tr>\n",
       "  </thead>\n",
       "  <tbody>\n",
       "    <tr>\n",
       "      <th>count</th>\n",
       "      <td>1258.000000</td>\n",
       "      <td>1258.000000</td>\n",
       "      <td>1258.000000</td>\n",
       "      <td>1258.000000</td>\n",
       "      <td>1.258000e+03</td>\n",
       "    </tr>\n",
       "    <tr>\n",
       "      <th>mean</th>\n",
       "      <td>1213.466245</td>\n",
       "      <td>1225.411552</td>\n",
       "      <td>1201.834205</td>\n",
       "      <td>1214.099998</td>\n",
       "      <td>1.736113e+06</td>\n",
       "    </tr>\n",
       "    <tr>\n",
       "      <th>std</th>\n",
       "      <td>363.102383</td>\n",
       "      <td>368.024573</td>\n",
       "      <td>359.081009</td>\n",
       "      <td>363.645312</td>\n",
       "      <td>8.267963e+05</td>\n",
       "    </tr>\n",
       "    <tr>\n",
       "      <th>min</th>\n",
       "      <td>682.490000</td>\n",
       "      <td>683.325000</td>\n",
       "      <td>672.660000</td>\n",
       "      <td>681.140000</td>\n",
       "      <td>4.656380e+05</td>\n",
       "    </tr>\n",
       "    <tr>\n",
       "      <th>25%</th>\n",
       "      <td>974.315000</td>\n",
       "      <td>979.677500</td>\n",
       "      <td>968.440000</td>\n",
       "      <td>973.825000</td>\n",
       "      <td>1.212256e+06</td>\n",
       "    </tr>\n",
       "    <tr>\n",
       "      <th>50%</th>\n",
       "      <td>1133.470000</td>\n",
       "      <td>1146.190000</td>\n",
       "      <td>1123.360000</td>\n",
       "      <td>1135.470000</td>\n",
       "      <td>1.535082e+06</td>\n",
       "    </tr>\n",
       "    <tr>\n",
       "      <th>75%</th>\n",
       "      <td>1354.227500</td>\n",
       "      <td>1366.385000</td>\n",
       "      <td>1344.890000</td>\n",
       "      <td>1353.957500</td>\n",
       "      <td>1.982887e+06</td>\n",
       "    </tr>\n",
       "    <tr>\n",
       "      <th>max</th>\n",
       "      <td>2392.495400</td>\n",
       "      <td>2431.380000</td>\n",
       "      <td>2373.850000</td>\n",
       "      <td>2392.760000</td>\n",
       "      <td>6.658855e+06</td>\n",
       "    </tr>\n",
       "  </tbody>\n",
       "</table>\n",
       "</div>"
      ],
      "text/plain": [
       "              Open         High          Low        Close        Volume\n",
       "count  1258.000000  1258.000000  1258.000000  1258.000000  1.258000e+03\n",
       "mean   1213.466245  1225.411552  1201.834205  1214.099998  1.736113e+06\n",
       "std     363.102383   368.024573   359.081009   363.645312  8.267963e+05\n",
       "min     682.490000   683.325000   672.660000   681.140000  4.656380e+05\n",
       "25%     974.315000   979.677500   968.440000   973.825000  1.212256e+06\n",
       "50%    1133.470000  1146.190000  1123.360000  1135.470000  1.535082e+06\n",
       "75%    1354.227500  1366.385000  1344.890000  1353.957500  1.982887e+06\n",
       "max    2392.495400  2431.380000  2373.850000  2392.760000  6.658855e+06"
      ]
     },
     "metadata": {},
     "output_type": "display_data"
    }
   ],
   "source": [
    "display(google.describe())"
   ]
  },
  {
   "cell_type": "markdown",
   "metadata": {
    "id": "eYd_y8_TWro3"
   },
   "source": [
    "Note the precision of individual statistics.\n",
    "Try setting the appropriate _pandas_ library options to display data with two decimal places.\n",
    "\n",
    "__Tip:__ \n",
    "https://pandas.pydata.org/pandas-docs/stable/user_guide/options.html"
   ]
  },
  {
   "cell_type": "code",
   "execution_count": 6,
   "metadata": {
    "id": "zHXcFbuEWyBC"
   },
   "outputs": [
    {
     "data": {
      "text/html": [
       "<div>\n",
       "<style scoped>\n",
       "    .dataframe tbody tr th:only-of-type {\n",
       "        vertical-align: middle;\n",
       "    }\n",
       "\n",
       "    .dataframe tbody tr th {\n",
       "        vertical-align: top;\n",
       "    }\n",
       "\n",
       "    .dataframe thead th {\n",
       "        text-align: right;\n",
       "    }\n",
       "</style>\n",
       "<table border=\"1\" class=\"dataframe\">\n",
       "  <thead>\n",
       "    <tr style=\"text-align: right;\">\n",
       "      <th></th>\n",
       "      <th>Open</th>\n",
       "      <th>High</th>\n",
       "      <th>Low</th>\n",
       "      <th>Close</th>\n",
       "      <th>Volume</th>\n",
       "    </tr>\n",
       "  </thead>\n",
       "  <tbody>\n",
       "    <tr>\n",
       "      <th>count</th>\n",
       "      <td>1258.00</td>\n",
       "      <td>1258.00</td>\n",
       "      <td>1258.00</td>\n",
       "      <td>1258.00</td>\n",
       "      <td>1.26e+03</td>\n",
       "    </tr>\n",
       "    <tr>\n",
       "      <th>mean</th>\n",
       "      <td>1213.47</td>\n",
       "      <td>1225.41</td>\n",
       "      <td>1201.83</td>\n",
       "      <td>1214.10</td>\n",
       "      <td>1.74e+06</td>\n",
       "    </tr>\n",
       "    <tr>\n",
       "      <th>std</th>\n",
       "      <td>363.10</td>\n",
       "      <td>368.02</td>\n",
       "      <td>359.08</td>\n",
       "      <td>363.65</td>\n",
       "      <td>8.27e+05</td>\n",
       "    </tr>\n",
       "    <tr>\n",
       "      <th>min</th>\n",
       "      <td>682.49</td>\n",
       "      <td>683.33</td>\n",
       "      <td>672.66</td>\n",
       "      <td>681.14</td>\n",
       "      <td>4.66e+05</td>\n",
       "    </tr>\n",
       "    <tr>\n",
       "      <th>25%</th>\n",
       "      <td>974.32</td>\n",
       "      <td>979.68</td>\n",
       "      <td>968.44</td>\n",
       "      <td>973.83</td>\n",
       "      <td>1.21e+06</td>\n",
       "    </tr>\n",
       "    <tr>\n",
       "      <th>50%</th>\n",
       "      <td>1133.47</td>\n",
       "      <td>1146.19</td>\n",
       "      <td>1123.36</td>\n",
       "      <td>1135.47</td>\n",
       "      <td>1.54e+06</td>\n",
       "    </tr>\n",
       "    <tr>\n",
       "      <th>75%</th>\n",
       "      <td>1354.23</td>\n",
       "      <td>1366.38</td>\n",
       "      <td>1344.89</td>\n",
       "      <td>1353.96</td>\n",
       "      <td>1.98e+06</td>\n",
       "    </tr>\n",
       "    <tr>\n",
       "      <th>max</th>\n",
       "      <td>2392.50</td>\n",
       "      <td>2431.38</td>\n",
       "      <td>2373.85</td>\n",
       "      <td>2392.76</td>\n",
       "      <td>6.66e+06</td>\n",
       "    </tr>\n",
       "  </tbody>\n",
       "</table>\n",
       "</div>"
      ],
      "text/plain": [
       "          Open     High      Low    Close    Volume\n",
       "count  1258.00  1258.00  1258.00  1258.00  1.26e+03\n",
       "mean   1213.47  1225.41  1201.83  1214.10  1.74e+06\n",
       "std     363.10   368.02   359.08   363.65  8.27e+05\n",
       "min     682.49   683.33   672.66   681.14  4.66e+05\n",
       "25%     974.32   979.68   968.44   973.83  1.21e+06\n",
       "50%    1133.47  1146.19  1123.36  1135.47  1.54e+06\n",
       "75%    1354.23  1366.38  1344.89  1353.96  1.98e+06\n",
       "max    2392.50  2431.38  2373.85  2392.76  6.66e+06"
      ]
     },
     "execution_count": 6,
     "metadata": {},
     "output_type": "execute_result"
    }
   ],
   "source": [
    "pd.set_option(\"precision\", 2)\n",
    "google.describe()"
   ]
  },
  {
   "cell_type": "markdown",
   "metadata": {
    "id": "_PTZL5EXW0Fk"
   },
   "source": [
    "__Additionally:__\n",
    "The following setting will also suppress mathematical notation (see column _Volume_)."
   ]
  },
  {
   "cell_type": "code",
   "execution_count": 7,
   "metadata": {
    "id": "mKi0XqaWW3zC"
   },
   "outputs": [
    {
     "data": {
      "text/html": [
       "<div>\n",
       "<style scoped>\n",
       "    .dataframe tbody tr th:only-of-type {\n",
       "        vertical-align: middle;\n",
       "    }\n",
       "\n",
       "    .dataframe tbody tr th {\n",
       "        vertical-align: top;\n",
       "    }\n",
       "\n",
       "    .dataframe thead th {\n",
       "        text-align: right;\n",
       "    }\n",
       "</style>\n",
       "<table border=\"1\" class=\"dataframe\">\n",
       "  <thead>\n",
       "    <tr style=\"text-align: right;\">\n",
       "      <th></th>\n",
       "      <th>Open</th>\n",
       "      <th>High</th>\n",
       "      <th>Low</th>\n",
       "      <th>Close</th>\n",
       "      <th>Volume</th>\n",
       "    </tr>\n",
       "  </thead>\n",
       "  <tbody>\n",
       "    <tr>\n",
       "      <th>count</th>\n",
       "      <td>1258.00</td>\n",
       "      <td>1258.00</td>\n",
       "      <td>1258.00</td>\n",
       "      <td>1258.00</td>\n",
       "      <td>1258.00</td>\n",
       "    </tr>\n",
       "    <tr>\n",
       "      <th>mean</th>\n",
       "      <td>1213.47</td>\n",
       "      <td>1225.41</td>\n",
       "      <td>1201.83</td>\n",
       "      <td>1214.10</td>\n",
       "      <td>1736113.33</td>\n",
       "    </tr>\n",
       "    <tr>\n",
       "      <th>std</th>\n",
       "      <td>363.10</td>\n",
       "      <td>368.02</td>\n",
       "      <td>359.08</td>\n",
       "      <td>363.65</td>\n",
       "      <td>826796.27</td>\n",
       "    </tr>\n",
       "    <tr>\n",
       "      <th>min</th>\n",
       "      <td>682.49</td>\n",
       "      <td>683.33</td>\n",
       "      <td>672.66</td>\n",
       "      <td>681.14</td>\n",
       "      <td>465638.00</td>\n",
       "    </tr>\n",
       "    <tr>\n",
       "      <th>25%</th>\n",
       "      <td>974.32</td>\n",
       "      <td>979.68</td>\n",
       "      <td>968.44</td>\n",
       "      <td>973.83</td>\n",
       "      <td>1212255.50</td>\n",
       "    </tr>\n",
       "    <tr>\n",
       "      <th>50%</th>\n",
       "      <td>1133.47</td>\n",
       "      <td>1146.19</td>\n",
       "      <td>1123.36</td>\n",
       "      <td>1135.47</td>\n",
       "      <td>1535081.50</td>\n",
       "    </tr>\n",
       "    <tr>\n",
       "      <th>75%</th>\n",
       "      <td>1354.23</td>\n",
       "      <td>1366.38</td>\n",
       "      <td>1344.89</td>\n",
       "      <td>1353.96</td>\n",
       "      <td>1982887.00</td>\n",
       "    </tr>\n",
       "    <tr>\n",
       "      <th>max</th>\n",
       "      <td>2392.50</td>\n",
       "      <td>2431.38</td>\n",
       "      <td>2373.85</td>\n",
       "      <td>2392.76</td>\n",
       "      <td>6658855.00</td>\n",
       "    </tr>\n",
       "  </tbody>\n",
       "</table>\n",
       "</div>"
      ],
      "text/plain": [
       "         Open    High     Low   Close     Volume\n",
       "count 1258.00 1258.00 1258.00 1258.00    1258.00\n",
       "mean  1213.47 1225.41 1201.83 1214.10 1736113.33\n",
       "std    363.10  368.02  359.08  363.65  826796.27\n",
       "min    682.49  683.33  672.66  681.14  465638.00\n",
       "25%    974.32  979.68  968.44  973.83 1212255.50\n",
       "50%   1133.47 1146.19 1123.36 1135.47 1535081.50\n",
       "75%   1354.23 1366.38 1344.89 1353.96 1982887.00\n",
       "max   2392.50 2431.38 2373.85 2392.76 6658855.00"
      ]
     },
     "execution_count": 7,
     "metadata": {},
     "output_type": "execute_result"
    }
   ],
   "source": [
    "pd.options.display.float_format = '{:.2f}'.format\n",
    "google.describe()"
   ]
  },
  {
   "cell_type": "markdown",
   "metadata": {
    "id": "wVGd55NMW6ZU"
   },
   "source": [
    "Build a simple chart for _google_ closing price (_Close_)"
   ]
  },
  {
   "cell_type": "code",
   "execution_count": 8,
   "metadata": {
    "id": "6z75UldWXDOr",
    "scrolled": true
   },
   "outputs": [
    {
     "data": {
      "text/plain": [
       "<AxesSubplot:xlabel='Date'>"
      ]
     },
     "execution_count": 8,
     "metadata": {},
     "output_type": "execute_result"
    },
    {
     "data": {
      "image/png": "[encoded data removed]",
      "text/plain": [
       "<Figure size 432x288 with 1 Axes>"
      ]
     },
     "metadata": {},
     "output_type": "display_data"
    }
   ],
   "source": [
    "google['Close'].plot()"
   ]
  },
  {
   "cell_type": "markdown",
   "metadata": {
    "id": "XQLYT2m11wVG"
   },
   "source": [
    "### <a name='3'></a> Exercise 123\n",
    "Replace the _Date_ index with a column. Permanently assign changes to the _google_."
   ]
  },
  {
   "cell_type": "code",
   "execution_count": 38,
   "metadata": {
    "id": "tnmHL0sxXPLK"
   },
   "outputs": [],
   "source": [
    "google = google.reset_index()"
   ]
  },
  {
   "cell_type": "markdown",
   "metadata": {
    "id": "UM5yUTmzXR5G"
   },
   "source": [
    "Assign two new columns to the _google_ object by adding a column with the current month number named _'Month'_ and the year named _'Year'_."
   ]
  },
  {
   "cell_type": "code",
   "execution_count": 39,
   "metadata": {
    "id": "TuqLYi3bXUkv"
   },
   "outputs": [
    {
     "data": {
      "text/html": [
       "<div>\n",
       "<style scoped>\n",
       "    .dataframe tbody tr th:only-of-type {\n",
       "        vertical-align: middle;\n",
       "    }\n",
       "\n",
       "    .dataframe tbody tr th {\n",
       "        vertical-align: top;\n",
       "    }\n",
       "\n",
       "    .dataframe thead th {\n",
       "        text-align: right;\n",
       "    }\n",
       "</style>\n",
       "<table border=\"1\" class=\"dataframe\">\n",
       "  <thead>\n",
       "    <tr style=\"text-align: right;\">\n",
       "      <th></th>\n",
       "      <th>Date</th>\n",
       "      <th>Open</th>\n",
       "      <th>High</th>\n",
       "      <th>Low</th>\n",
       "      <th>Close</th>\n",
       "      <th>Volume</th>\n",
       "      <th>Month</th>\n",
       "      <th>Year</th>\n",
       "    </tr>\n",
       "  </thead>\n",
       "  <tbody>\n",
       "    <tr>\n",
       "      <th>0</th>\n",
       "      <td>2021-06-03</td>\n",
       "      <td>2345.73</td>\n",
       "      <td>2357.01</td>\n",
       "      <td>2329.52</td>\n",
       "      <td>2347.58</td>\n",
       "      <td>934796</td>\n",
       "      <td>6</td>\n",
       "      <td>2021</td>\n",
       "    </tr>\n",
       "    <tr>\n",
       "      <th>1</th>\n",
       "      <td>2021-06-02</td>\n",
       "      <td>2389.15</td>\n",
       "      <td>2393.64</td>\n",
       "      <td>2352.36</td>\n",
       "      <td>2370.59</td>\n",
       "      <td>1058146</td>\n",
       "      <td>6</td>\n",
       "      <td>2021</td>\n",
       "    </tr>\n",
       "    <tr>\n",
       "      <th>2</th>\n",
       "      <td>2021-06-01</td>\n",
       "      <td>2374.44</td>\n",
       "      <td>2385.71</td>\n",
       "      <td>2354.28</td>\n",
       "      <td>2381.18</td>\n",
       "      <td>1167901</td>\n",
       "      <td>6</td>\n",
       "      <td>2021</td>\n",
       "    </tr>\n",
       "    <tr>\n",
       "      <th>3</th>\n",
       "      <td>2021-05-28</td>\n",
       "      <td>2374.42</td>\n",
       "      <td>2376.07</td>\n",
       "      <td>2352.85</td>\n",
       "      <td>2356.85</td>\n",
       "      <td>1074540</td>\n",
       "      <td>5</td>\n",
       "      <td>2021</td>\n",
       "    </tr>\n",
       "    <tr>\n",
       "      <th>4</th>\n",
       "      <td>2021-05-27</td>\n",
       "      <td>2389.05</td>\n",
       "      <td>2389.05</td>\n",
       "      <td>2356.26</td>\n",
       "      <td>2362.68</td>\n",
       "      <td>1761201</td>\n",
       "      <td>5</td>\n",
       "      <td>2021</td>\n",
       "    </tr>\n",
       "  </tbody>\n",
       "</table>\n",
       "</div>"
      ],
      "text/plain": [
       "        Date    Open    High     Low   Close   Volume  Month  Year\n",
       "0 2021-06-03 2345.73 2357.01 2329.52 2347.58   934796      6  2021\n",
       "1 2021-06-02 2389.15 2393.64 2352.36 2370.59  1058146      6  2021\n",
       "2 2021-06-01 2374.44 2385.71 2354.28 2381.18  1167901      6  2021\n",
       "3 2021-05-28 2374.42 2376.07 2352.85 2356.85  1074540      5  2021\n",
       "4 2021-05-27 2389.05 2389.05 2356.26 2362.68  1761201      5  2021"
      ]
     },
     "execution_count": 39,
     "metadata": {},
     "output_type": "execute_result"
    }
   ],
   "source": [
    "google['Month'] = google['Date'].dt.month\n",
    "google['Year'] = google['Date'].dt.year\n",
    "google.head()"
   ]
  },
  {
   "cell_type": "markdown",
   "metadata": {
    "id": "4xTKSUzg10MK"
   },
   "source": [
    "### <a name='4'></a> Exercise 124\n",
    "Compute the average closing price (_Close_) for a particular year (group data by year - column _Year_ and then calculate the average value)."
   ]
  },
  {
   "cell_type": "code",
   "execution_count": 12,
   "metadata": {
    "id": "8y72Mrl_XbVR"
   },
   "outputs": [],
   "source": [
    "avg_close_by_year = google.groupby(\"Year\")['Close'].mean()"
   ]
  },
  {
   "cell_type": "markdown",
   "metadata": {
    "id": "WWUsF6Q_Xdqp"
   },
   "source": [
    "Present the obtained values on the graph using the _plot()_ method."
   ]
  },
  {
   "cell_type": "code",
   "execution_count": 13,
   "metadata": {
    "id": "vhH4QI4rXf0F"
   },
   "outputs": [
    {
     "data": {
      "text/plain": [
       "<AxesSubplot:xlabel='Year'>"
      ]
     },
     "execution_count": 13,
     "metadata": {},
     "output_type": "execute_result"
    },
    {
     "data": {
      "image/png": "[encoded data removed]",
      "text/plain": [
       "<Figure size 432x288 with 1 Axes>"
      ]
     },
     "metadata": {},
     "output_type": "display_data"
    }
   ],
   "source": [
    "avg_close_by_year.plot()"
   ]
  },
  {
   "cell_type": "markdown",
   "metadata": {
    "id": "ZQdfGqr1Xong"
   },
   "source": [
    "Compute the average closing price (_Close_) for the month (group data by month - the _Month_ column and then count the average value)."
   ]
  },
  {
   "cell_type": "code",
   "execution_count": 14,
   "metadata": {
    "id": "Rv9ObC1DXlIP"
   },
   "outputs": [],
   "source": [
    "avg_close_by_month = google.groupby(\"Month\")['Close'].mean()"
   ]
  },
  {
   "cell_type": "markdown",
   "metadata": {
    "id": "xZK19EeaXtzH"
   },
   "source": [
    "Present the obtained values on the graph using the _plot()_ method.\n",
    "Note which months may indicate weaker periods on the stock market."
   ]
  },
  {
   "cell_type": "code",
   "execution_count": 15,
   "metadata": {
    "id": "si68U1IqXxz9"
   },
   "outputs": [
    {
     "data": {
      "text/plain": [
       "<AxesSubplot:xlabel='Month'>"
      ]
     },
     "execution_count": 15,
     "metadata": {},
     "output_type": "execute_result"
    },
    {
     "data": {
      "image/png": "[encoded data removed]",
      "text/plain": [
       "<Figure size 432x288 with 1 Axes>"
      ]
     },
     "metadata": {},
     "output_type": "display_data"
    }
   ],
   "source": [
    "avg_close_by_month.plot()"
   ]
  },
  {
   "cell_type": "markdown",
   "metadata": {
    "id": "o3HKIKlP15Ro"
   },
   "source": [
    "### <a name='5'></a> Exercise 125\n",
    "Group data from _google_ at year and month level. Then calculate the average value.\n"
   ]
  },
  {
   "cell_type": "code",
   "execution_count": 17,
   "metadata": {
    "id": "Se7TZ3fIX5Z7"
   },
   "outputs": [
    {
     "data": {
      "text/html": [
       "<div>\n",
       "<style scoped>\n",
       "    .dataframe tbody tr th:only-of-type {\n",
       "        vertical-align: middle;\n",
       "    }\n",
       "\n",
       "    .dataframe tbody tr th {\n",
       "        vertical-align: top;\n",
       "    }\n",
       "\n",
       "    .dataframe thead th {\n",
       "        text-align: right;\n",
       "    }\n",
       "</style>\n",
       "<table border=\"1\" class=\"dataframe\">\n",
       "  <thead>\n",
       "    <tr style=\"text-align: right;\">\n",
       "      <th></th>\n",
       "      <th></th>\n",
       "      <th>Open</th>\n",
       "      <th>High</th>\n",
       "      <th>Low</th>\n",
       "      <th>Close</th>\n",
       "      <th>Volume</th>\n",
       "    </tr>\n",
       "    <tr>\n",
       "      <th>Year</th>\n",
       "      <th>Month</th>\n",
       "      <th></th>\n",
       "      <th></th>\n",
       "      <th></th>\n",
       "      <th></th>\n",
       "      <th></th>\n",
       "    </tr>\n",
       "  </thead>\n",
       "  <tbody>\n",
       "    <tr>\n",
       "      <th rowspan=\"5\" valign=\"top\">2016</th>\n",
       "      <th>6</th>\n",
       "      <td>717.29</td>\n",
       "      <td>721.63</td>\n",
       "      <td>711.18</td>\n",
       "      <td>715.93</td>\n",
       "      <td>1401399.63</td>\n",
       "    </tr>\n",
       "    <tr>\n",
       "      <th>7</th>\n",
       "      <td>739.46</td>\n",
       "      <td>744.27</td>\n",
       "      <td>735.32</td>\n",
       "      <td>741.06</td>\n",
       "      <td>1160384.90</td>\n",
       "    </tr>\n",
       "    <tr>\n",
       "      <th>8</th>\n",
       "      <td>799.29</td>\n",
       "      <td>803.53</td>\n",
       "      <td>795.95</td>\n",
       "      <td>800.22</td>\n",
       "      <td>927411.39</td>\n",
       "    </tr>\n",
       "    <tr>\n",
       "      <th>9</th>\n",
       "      <td>800.32</td>\n",
       "      <td>805.77</td>\n",
       "      <td>796.25</td>\n",
       "      <td>801.61</td>\n",
       "      <td>1112772.29</td>\n",
       "    </tr>\n",
       "    <tr>\n",
       "      <th>10</th>\n",
       "      <td>815.74</td>\n",
       "      <td>819.86</td>\n",
       "      <td>809.65</td>\n",
       "      <td>813.66</td>\n",
       "      <td>1400274.00</td>\n",
       "    </tr>\n",
       "    <tr>\n",
       "      <th>...</th>\n",
       "      <th>...</th>\n",
       "      <td>...</td>\n",
       "      <td>...</td>\n",
       "      <td>...</td>\n",
       "      <td>...</td>\n",
       "      <td>...</td>\n",
       "    </tr>\n",
       "    <tr>\n",
       "      <th rowspan=\"5\" valign=\"top\">2021</th>\n",
       "      <th>2</th>\n",
       "      <td>2050.22</td>\n",
       "      <td>2080.60</td>\n",
       "      <td>2031.99</td>\n",
       "      <td>2058.09</td>\n",
       "      <td>1785157.21</td>\n",
       "    </tr>\n",
       "    <tr>\n",
       "      <th>3</th>\n",
       "      <td>2049.47</td>\n",
       "      <td>2073.58</td>\n",
       "      <td>2025.22</td>\n",
       "      <td>2047.67</td>\n",
       "      <td>1645128.39</td>\n",
       "    </tr>\n",
       "    <tr>\n",
       "      <th>4</th>\n",
       "      <td>2269.08</td>\n",
       "      <td>2290.45</td>\n",
       "      <td>2251.98</td>\n",
       "      <td>2272.99</td>\n",
       "      <td>1672377.14</td>\n",
       "    </tr>\n",
       "    <tr>\n",
       "      <th>5</th>\n",
       "      <td>2308.95</td>\n",
       "      <td>2327.03</td>\n",
       "      <td>2288.35</td>\n",
       "      <td>2308.56</td>\n",
       "      <td>1508761.95</td>\n",
       "    </tr>\n",
       "    <tr>\n",
       "      <th>6</th>\n",
       "      <td>2369.77</td>\n",
       "      <td>2378.79</td>\n",
       "      <td>2345.39</td>\n",
       "      <td>2366.45</td>\n",
       "      <td>1053614.33</td>\n",
       "    </tr>\n",
       "  </tbody>\n",
       "</table>\n",
       "<p>61 rows × 5 columns</p>\n",
       "</div>"
      ],
      "text/plain": [
       "              Open    High     Low   Close     Volume\n",
       "Year Month                                           \n",
       "2016 6      717.29  721.63  711.18  715.93 1401399.63\n",
       "     7      739.46  744.27  735.32  741.06 1160384.90\n",
       "     8      799.29  803.53  795.95  800.22  927411.39\n",
       "     9      800.32  805.77  796.25  801.61 1112772.29\n",
       "     10     815.74  819.86  809.65  813.66 1400274.00\n",
       "...            ...     ...     ...     ...        ...\n",
       "2021 2     2050.22 2080.60 2031.99 2058.09 1785157.21\n",
       "     3     2049.47 2073.58 2025.22 2047.67 1645128.39\n",
       "     4     2269.08 2290.45 2251.98 2272.99 1672377.14\n",
       "     5     2308.95 2327.03 2288.35 2308.56 1508761.95\n",
       "     6     2369.77 2378.79 2345.39 2366.45 1053614.33\n",
       "\n",
       "[61 rows x 5 columns]"
      ]
     },
     "execution_count": 17,
     "metadata": {},
     "output_type": "execute_result"
    }
   ],
   "source": [
    "avg_val = google.groupby([\"Year\", \"Month\"]).mean()\n",
    "avg_val"
   ]
  },
  {
   "cell_type": "markdown",
   "metadata": {
    "id": "PunXd_Ey16so"
   },
   "source": [
    "### <a name='6'></a> Exercise 126\n",
    "Find the index for which the _Close_ column has the largest value.\n"
   ]
  },
  {
   "cell_type": "code",
   "execution_count": 18,
   "metadata": {
    "id": "SHLzxmmNX9A6"
   },
   "outputs": [
    {
     "data": {
      "text/plain": [
       "24"
      ]
     },
     "execution_count": 18,
     "metadata": {},
     "output_type": "execute_result"
    }
   ],
   "source": [
    "google['Close'].argmax()"
   ]
  },
  {
   "cell_type": "markdown",
   "metadata": {
    "id": "Bmhj586UX_PT"
   },
   "source": [
    "Extract the row for this index from the google object as a DataFrame. Read the date."
   ]
  },
  {
   "cell_type": "code",
   "execution_count": 21,
   "metadata": {
    "id": "oR_HAXE0YCB6"
   },
   "outputs": [
    {
     "data": {
      "text/html": [
       "<div>\n",
       "<style scoped>\n",
       "    .dataframe tbody tr th:only-of-type {\n",
       "        vertical-align: middle;\n",
       "    }\n",
       "\n",
       "    .dataframe tbody tr th {\n",
       "        vertical-align: top;\n",
       "    }\n",
       "\n",
       "    .dataframe thead th {\n",
       "        text-align: right;\n",
       "    }\n",
       "</style>\n",
       "<table border=\"1\" class=\"dataframe\">\n",
       "  <thead>\n",
       "    <tr style=\"text-align: right;\">\n",
       "      <th></th>\n",
       "      <th>Date</th>\n",
       "      <th>Open</th>\n",
       "      <th>High</th>\n",
       "      <th>Low</th>\n",
       "      <th>Close</th>\n",
       "      <th>Volume</th>\n",
       "      <th>Month</th>\n",
       "      <th>Year</th>\n",
       "    </tr>\n",
       "  </thead>\n",
       "  <tbody>\n",
       "    <tr>\n",
       "      <th>24</th>\n",
       "      <td>2021-04-29</td>\n",
       "      <td>2389.23</td>\n",
       "      <td>2404.16</td>\n",
       "      <td>2373.85</td>\n",
       "      <td>2392.76</td>\n",
       "      <td>2061654</td>\n",
       "      <td>4</td>\n",
       "      <td>2021</td>\n",
       "    </tr>\n",
       "  </tbody>\n",
       "</table>\n",
       "</div>"
      ],
      "text/plain": [
       "         Date    Open    High     Low   Close   Volume  Month  Year\n",
       "24 2021-04-29 2389.23 2404.16 2373.85 2392.76  2061654      4  2021"
      ]
     },
     "execution_count": 21,
     "metadata": {},
     "output_type": "execute_result"
    }
   ],
   "source": [
    "google.iloc[[google['Close'].argmax()]]"
   ]
  },
  {
   "cell_type": "markdown",
   "metadata": {
    "id": "hOhqDRz618Tx"
   },
   "source": [
    "### <a name='7'></a> Exercise 127\n",
    "Extract the columns _Date_, _Open_, _Close_, _Volume_ from the _google_ object.\n",
    "Don't change the original _google_ object!"
   ]
  },
  {
   "cell_type": "code",
   "execution_count": 22,
   "metadata": {
    "id": "rF0EWOQLYGeT"
   },
   "outputs": [],
   "source": [
    "df = google[[\"Date\", \"Open\", \"Close\"]]"
   ]
  },
  {
   "cell_type": "markdown",
   "metadata": {
    "id": "TXUd_4631-gw"
   },
   "source": [
    "### <a name='8'></a> Exercise 128\n",
    "Set the index for the _Date_ column back. Display object _google_."
   ]
  },
  {
   "cell_type": "code",
   "execution_count": 40,
   "metadata": {
    "id": "1asmE6YJYLw-"
   },
   "outputs": [],
   "source": [
    "google = google.set_index(\"Date\")"
   ]
  },
  {
   "cell_type": "markdown",
   "metadata": {
    "id": "tgI6xEn-2AQo"
   },
   "source": [
    "### <a name='9'></a> Exercise 129\n",
    "Permanently remove the _Year_ and _Month_ columns from the _google_ object. Display object _google_."
   ]
  },
  {
   "cell_type": "code",
   "execution_count": 43,
   "metadata": {
    "id": "tmRTUIEOYc9x"
   },
   "outputs": [
    {
     "data": {
      "text/html": [
       "<div>\n",
       "<style scoped>\n",
       "    .dataframe tbody tr th:only-of-type {\n",
       "        vertical-align: middle;\n",
       "    }\n",
       "\n",
       "    .dataframe tbody tr th {\n",
       "        vertical-align: top;\n",
       "    }\n",
       "\n",
       "    .dataframe thead th {\n",
       "        text-align: right;\n",
       "    }\n",
       "</style>\n",
       "<table border=\"1\" class=\"dataframe\">\n",
       "  <thead>\n",
       "    <tr style=\"text-align: right;\">\n",
       "      <th></th>\n",
       "      <th>Open</th>\n",
       "      <th>High</th>\n",
       "      <th>Low</th>\n",
       "      <th>Close</th>\n",
       "      <th>Volume</th>\n",
       "    </tr>\n",
       "    <tr>\n",
       "      <th>Date</th>\n",
       "      <th></th>\n",
       "      <th></th>\n",
       "      <th></th>\n",
       "      <th></th>\n",
       "      <th></th>\n",
       "    </tr>\n",
       "  </thead>\n",
       "  <tbody>\n",
       "    <tr>\n",
       "      <th>2021-06-03</th>\n",
       "      <td>2345.73</td>\n",
       "      <td>2357.01</td>\n",
       "      <td>2329.52</td>\n",
       "      <td>2347.58</td>\n",
       "      <td>934796</td>\n",
       "    </tr>\n",
       "    <tr>\n",
       "      <th>2021-06-02</th>\n",
       "      <td>2389.15</td>\n",
       "      <td>2393.64</td>\n",
       "      <td>2352.36</td>\n",
       "      <td>2370.59</td>\n",
       "      <td>1058146</td>\n",
       "    </tr>\n",
       "    <tr>\n",
       "      <th>2021-06-01</th>\n",
       "      <td>2374.44</td>\n",
       "      <td>2385.71</td>\n",
       "      <td>2354.28</td>\n",
       "      <td>2381.18</td>\n",
       "      <td>1167901</td>\n",
       "    </tr>\n",
       "    <tr>\n",
       "      <th>2021-05-28</th>\n",
       "      <td>2374.42</td>\n",
       "      <td>2376.07</td>\n",
       "      <td>2352.85</td>\n",
       "      <td>2356.85</td>\n",
       "      <td>1074540</td>\n",
       "    </tr>\n",
       "    <tr>\n",
       "      <th>2021-05-27</th>\n",
       "      <td>2389.05</td>\n",
       "      <td>2389.05</td>\n",
       "      <td>2356.26</td>\n",
       "      <td>2362.68</td>\n",
       "      <td>1761201</td>\n",
       "    </tr>\n",
       "    <tr>\n",
       "      <th>...</th>\n",
       "      <td>...</td>\n",
       "      <td>...</td>\n",
       "      <td>...</td>\n",
       "      <td>...</td>\n",
       "      <td>...</td>\n",
       "    </tr>\n",
       "    <tr>\n",
       "      <th>2016-06-10</th>\n",
       "      <td>735.95</td>\n",
       "      <td>739.64</td>\n",
       "      <td>730.51</td>\n",
       "      <td>733.19</td>\n",
       "      <td>1242152</td>\n",
       "    </tr>\n",
       "    <tr>\n",
       "      <th>2016-06-09</th>\n",
       "      <td>737.07</td>\n",
       "      <td>743.93</td>\n",
       "      <td>736.50</td>\n",
       "      <td>742.52</td>\n",
       "      <td>619331</td>\n",
       "    </tr>\n",
       "    <tr>\n",
       "      <th>2016-06-08</th>\n",
       "      <td>739.50</td>\n",
       "      <td>743.81</td>\n",
       "      <td>735.76</td>\n",
       "      <td>742.93</td>\n",
       "      <td>1097087</td>\n",
       "    </tr>\n",
       "    <tr>\n",
       "      <th>2016-06-07</th>\n",
       "      <td>733.27</td>\n",
       "      <td>736.71</td>\n",
       "      <td>730.80</td>\n",
       "      <td>731.09</td>\n",
       "      <td>816020</td>\n",
       "    </tr>\n",
       "    <tr>\n",
       "      <th>2016-06-06</th>\n",
       "      <td>738.50</td>\n",
       "      <td>738.50</td>\n",
       "      <td>728.29</td>\n",
       "      <td>730.06</td>\n",
       "      <td>1019217</td>\n",
       "    </tr>\n",
       "  </tbody>\n",
       "</table>\n",
       "<p>1258 rows × 5 columns</p>\n",
       "</div>"
      ],
      "text/plain": [
       "              Open    High     Low   Close   Volume\n",
       "Date                                               \n",
       "2021-06-03 2345.73 2357.01 2329.52 2347.58   934796\n",
       "2021-06-02 2389.15 2393.64 2352.36 2370.59  1058146\n",
       "2021-06-01 2374.44 2385.71 2354.28 2381.18  1167901\n",
       "2021-05-28 2374.42 2376.07 2352.85 2356.85  1074540\n",
       "2021-05-27 2389.05 2389.05 2356.26 2362.68  1761201\n",
       "...            ...     ...     ...     ...      ...\n",
       "2016-06-10  735.95  739.64  730.51  733.19  1242152\n",
       "2016-06-09  737.07  743.93  736.50  742.52   619331\n",
       "2016-06-08  739.50  743.81  735.76  742.93  1097087\n",
       "2016-06-07  733.27  736.71  730.80  731.09   816020\n",
       "2016-06-06  738.50  738.50  728.29  730.06  1019217\n",
       "\n",
       "[1258 rows x 5 columns]"
      ]
     },
     "execution_count": 43,
     "metadata": {},
     "output_type": "execute_result"
    }
   ],
   "source": [
    "google = google.drop(columns=[\"Year\", \"Month\"])\n",
    "google"
   ]
  },
  {
   "cell_type": "markdown",
   "metadata": {
    "id": "wxhpf-uq2B1I"
   },
   "source": [
    "### <a name='10'></a> Exercise 130\n",
    "\n",
    "Assign the following values to the column names:\n",
    "* Open -> O\n",
    "* High -> H\n",
    "* Low -> L\n",
    "* Close -> C\n",
    "* Volume -> V\n",
    "\n",
    "to object _google_. Siaplay object _google_."
   ]
  },
  {
   "cell_type": "code",
   "execution_count": null,
   "metadata": {
    "id": "YFc0KW6URsuc"
   },
   "outputs": [],
   "source": [
    "google = google."
   ]
  }
 ],
 "metadata": {
  "colab": {
   "collapsed_sections": [],
   "name": "121-130_exercises.ipynb",
   "provenance": []
  },
  "kernelspec": {
   "display_name": "Python 3",
   "language": "python",
   "name": "python3"
  },
  "language_info": {
   "codemirror_mode": {
    "name": "ipython",
    "version": 3
   },
   "file_extension": ".py",
   "mimetype": "text/x-python",
   "name": "python",
   "nbconvert_exporter": "python",
   "pygments_lexer": "ipython3",
   "version": "3.8.8"
  }
 },
 "nbformat": 4,
 "nbformat_minor": 1
}
