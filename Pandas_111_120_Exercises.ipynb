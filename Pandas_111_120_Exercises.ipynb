{
 "cells": [
  {
   "cell_type": "markdown",
   "metadata": {
    "id": "WLEgCW5F1hho"
   },
   "source": [
    "## Pandas\n",
    "\n",
    "### Table of contents:\n",
    "* [Import biblioteki](#0)\n",
    "* [Exercise 111](#1)\n",
    "* [Exercise 112](#2)\n",
    "* [Exercise 113](#3)\n",
    "* [Exercise 114](#4)\n",
    "* [Exercise 115](#5)\n",
    "* [Exercise 116](#6)\n",
    "* [Exercise 117](#7)\n",
    "* [Exercise 118](#8)\n",
    "* [Exercise 119](#9)\n",
    "* [Exercise 120](#10)"
   ]
  },
  {
   "cell_type": "markdown",
   "metadata": {
    "id": "zeLOLmTj1kBM"
   },
   "source": [
    "### <a name='0'></a> Import of libraries"
   ]
  },
  {
   "cell_type": "code",
   "execution_count": 1,
   "metadata": {
    "id": "HXMB7SMe1Wnz"
   },
   "outputs": [
    {
     "data": {
      "text/plain": [
       "'1.2.3'"
      ]
     },
     "execution_count": 1,
     "metadata": {},
     "output_type": "execute_result"
    }
   ],
   "source": [
    "import numpy as np\n",
    "import pandas as pd\n",
    "\n",
    "np.random.seed(42)\n",
    "pd.__version__"
   ]
  },
  {
   "cell_type": "markdown",
   "metadata": {
    "id": "cyc70pMe1oCg"
   },
   "source": [
    "### <a name='1'></a> Exercise 111\n",
    "Build the _DatetimeIndex_ object containing the `yyyy-mm-dd` format dates for all days from January 2020 and assign it to the _date_range_ variable.\n",
    "\n",
    "__Expected result:__\n",
    "```\n",
    "DatetimeIndex(['2020-01-01', '2020-01-02', '2020-01-03', '2020-01-04',\n",
    "               '2020-01-05', '2020-01-06', '2020-01-07', '2020-01-08',\n",
    "               '2020-01-09', '2020-01-10', '2020-01-11', '2020-01-12',\n",
    "               '2020-01-13', '2020-01-14', '2020-01-15', '2020-01-16',\n",
    "               '2020-01-17', '2020-01-18', '2020-01-19', '2020-01-20',\n",
    "               '2020-01-21', '2020-01-22', '2020-01-23', '2020-01-24',\n",
    "               '2020-01-25', '2020-01-26', '2020-01-27', '2020-01-28',\n",
    "               '2020-01-29', '2020-01-30', '2020-01-31'],\n",
    "              dtype='datetime64[ns]', freq='D')\n",
    "```"
   ]
  },
  {
   "cell_type": "code",
   "execution_count": 9,
   "metadata": {
    "id": "r42Mg8niRI4Y"
   },
   "outputs": [],
   "source": [
    "date_range = pd.date_range(start='2020-01-01', periods=31)"
   ]
  },
  {
   "cell_type": "markdown",
   "metadata": {
    "id": "iHO3aFVlRNCo"
   },
   "source": [
    "Build the _Series_ object from the _date_range_ variable."
   ]
  },
  {
   "cell_type": "code",
   "execution_count": 10,
   "metadata": {
    "id": "FuxK6Ly-ROqL"
   },
   "outputs": [
    {
     "data": {
      "text/plain": [
       "0    2020-01-01\n",
       "1    2020-01-02\n",
       "2    2020-01-03\n",
       "3    2020-01-04\n",
       "4    2020-01-05\n",
       "5    2020-01-06\n",
       "6    2020-01-07\n",
       "7    2020-01-08\n",
       "8    2020-01-09\n",
       "9    2020-01-10\n",
       "10   2020-01-11\n",
       "11   2020-01-12\n",
       "12   2020-01-13\n",
       "13   2020-01-14\n",
       "14   2020-01-15\n",
       "15   2020-01-16\n",
       "16   2020-01-17\n",
       "17   2020-01-18\n",
       "18   2020-01-19\n",
       "19   2020-01-20\n",
       "20   2020-01-21\n",
       "21   2020-01-22\n",
       "22   2020-01-23\n",
       "23   2020-01-24\n",
       "24   2020-01-25\n",
       "25   2020-01-26\n",
       "26   2020-01-27\n",
       "27   2020-01-28\n",
       "28   2020-01-29\n",
       "29   2020-01-30\n",
       "30   2020-01-31\n",
       "dtype: datetime64[ns]"
      ]
     },
     "execution_count": 10,
     "metadata": {},
     "output_type": "execute_result"
    }
   ],
   "source": [
    "pd.Series(date_range)"
   ]
  },
  {
   "cell_type": "markdown",
   "metadata": {
    "id": "J9pY1rtr1sC0"
   },
   "source": [
    "### <a name='2'></a> Exercise 112\n",
    "Build the _DatetimeIndex_ object containing the dates in the `yyyy-mm-dd` format for all Mondays from 2020 and assign it to the _date_range_ variable."
   ]
  },
  {
   "cell_type": "code",
   "execution_count": 13,
   "metadata": {
    "id": "AlwIab7ZRYZV"
   },
   "outputs": [
    {
     "data": {
      "text/plain": [
       "DatetimeIndex(['2020-01-06', '2020-01-13', '2020-01-20', '2020-01-27',\n",
       "               '2020-02-03', '2020-02-10', '2020-02-17', '2020-02-24',\n",
       "               '2020-03-02', '2020-03-09', '2020-03-16', '2020-03-23',\n",
       "               '2020-03-30', '2020-04-06', '2020-04-13', '2020-04-20',\n",
       "               '2020-04-27', '2020-05-04', '2020-05-11', '2020-05-18',\n",
       "               '2020-05-25', '2020-06-01', '2020-06-08', '2020-06-15',\n",
       "               '2020-06-22', '2020-06-29', '2020-07-06', '2020-07-13',\n",
       "               '2020-07-20', '2020-07-27', '2020-08-03'],\n",
       "              dtype='datetime64[ns]', freq='W-MON')"
      ]
     },
     "execution_count": 13,
     "metadata": {},
     "output_type": "execute_result"
    }
   ],
   "source": [
    "date_range = pd.date_range(start='2020-01-01', periods=31, freq='W-MON')\n",
    "date_range"
   ]
  },
  {
   "cell_type": "markdown",
   "metadata": {
    "id": "XQLYT2m11wVG"
   },
   "source": [
    "### <a name='3'></a> Exercise 113\n",
    "Build the _DatetimeIndex_ object containing the dates in the format `yyyy-mm-dd hh: mm: ss` for January 1, 2021 with a time interval of 1h and assign to the variable _date_range_.\n",
    "\n",
    "__Expected result:__\n",
    "```\n",
    "DatetimeIndex(['2021-01-01 00:00:00', '2021-01-01 01:00:00',\n",
    "               '2021-01-01 02:00:00', '2021-01-01 03:00:00',\n",
    "               '2021-01-01 04:00:00', '2021-01-01 05:00:00',\n",
    "               '2021-01-01 06:00:00', '2021-01-01 07:00:00',\n",
    "               '2021-01-01 08:00:00', '2021-01-01 09:00:00',\n",
    "               '2021-01-01 10:00:00', '2021-01-01 11:00:00',\n",
    "               '2021-01-01 12:00:00', '2021-01-01 13:00:00',\n",
    "               '2021-01-01 14:00:00', '2021-01-01 15:00:00',\n",
    "               '2021-01-01 16:00:00', '2021-01-01 17:00:00',\n",
    "               '2021-01-01 18:00:00', '2021-01-01 19:00:00',\n",
    "               '2021-01-01 20:00:00', '2021-01-01 21:00:00',\n",
    "               '2021-01-01 22:00:00', '2021-01-01 23:00:00'],\n",
    "              dtype='datetime64[ns]', freq='H')\n",
    "```"
   ]
  },
  {
   "cell_type": "code",
   "execution_count": 17,
   "metadata": {
    "id": "o7gP6i--Rj7e"
   },
   "outputs": [
    {
     "data": {
      "text/plain": [
       "DatetimeIndex(['2021-01-01 00:00:00', '2021-01-01 01:00:00',\n",
       "               '2021-01-01 02:00:00', '2021-01-01 03:00:00',\n",
       "               '2021-01-01 04:00:00', '2021-01-01 05:00:00',\n",
       "               '2021-01-01 06:00:00', '2021-01-01 07:00:00',\n",
       "               '2021-01-01 08:00:00', '2021-01-01 09:00:00',\n",
       "               '2021-01-01 10:00:00', '2021-01-01 11:00:00',\n",
       "               '2021-01-01 12:00:00', '2021-01-01 13:00:00',\n",
       "               '2021-01-01 14:00:00', '2021-01-01 15:00:00',\n",
       "               '2021-01-01 16:00:00', '2021-01-01 17:00:00',\n",
       "               '2021-01-01 18:00:00', '2021-01-01 19:00:00',\n",
       "               '2021-01-01 20:00:00', '2021-01-01 21:00:00',\n",
       "               '2021-01-01 22:00:00', '2021-01-01 23:00:00'],\n",
       "              dtype='datetime64[ns]', freq='H')"
      ]
     },
     "execution_count": 17,
     "metadata": {},
     "output_type": "execute_result"
    }
   ],
   "source": [
    "pd.date_range(start=\"2021-01-01 00:00:00\", end=\"2021-01-01 23:00:00\", freq=\"H\")"
   ]
  },
  {
   "cell_type": "markdown",
   "metadata": {
    "id": "4xTKSUzg10MK"
   },
   "source": [
    "### <a name='4'></a> Exercise 114\n",
    "Build the _DataFrame_ object below.\n",
    "\n",
    "__Tips:__ The _day_ column contains dates from March 1, 2021 to March 31, 2021. The column _day_of_year_ is the day number of the whole year.\n",
    "\n",
    "```\n",
    "      day\t       day_of_year\n",
    " 0\t2021-03-01\t60\n",
    " 1\t2021-03-02\t61\n",
    " 2\t2021-03-03\t62\n",
    " 3\t2021-03-04\t63\n",
    " 4\t2021-03-05\t64\n",
    " 5\t2021-03-06\t65\n",
    " 6\t2021-03-07\t66\n",
    " 7\t2021-03-08\t67\n",
    " 8\t2021-03-09\t68\n",
    " 9\t2021-03-10\t69\n",
    "10\t2021-03-11\t70\n",
    "11\t2021-03-12\t71\n",
    "12\t2021-03-13\t72\n",
    "13\t2021-03-14\t73\n",
    "14\t2021-03-15\t74\n",
    "15\t2021-03-16\t75\n",
    "16\t2021-03-17\t76\n",
    "17\t2021-03-18\t77\n",
    "18\t2021-03-19\t78\n",
    "19\t2021-03-20\t79\n",
    "20\t2021-03-21\t80\n",
    "21\t2021-03-22\t81\n",
    "22\t2021-03-23\t82\n",
    "23\t2021-03-24\t83\n",
    "24\t2021-03-25\t84\n",
    "25\t2021-03-26\t85\n",
    "26\t2021-03-27\t86\n",
    "27\t2021-03-28\t87\n",
    "28\t2021-03-29\t88\n",
    "29\t2021-03-30\t89\n",
    "30\t2021-03-31\t90\n",
    "```"
   ]
  },
  {
   "cell_type": "code",
   "execution_count": 9,
   "metadata": {
    "id": "rHglGu-5R0--"
   },
   "outputs": [
    {
     "data": {
      "text/html": [
       "<div>\n",
       "<style scoped>\n",
       "    .dataframe tbody tr th:only-of-type {\n",
       "        vertical-align: middle;\n",
       "    }\n",
       "\n",
       "    .dataframe tbody tr th {\n",
       "        vertical-align: top;\n",
       "    }\n",
       "\n",
       "    .dataframe thead th {\n",
       "        text-align: right;\n",
       "    }\n",
       "</style>\n",
       "<table border=\"1\" class=\"dataframe\">\n",
       "  <thead>\n",
       "    <tr style=\"text-align: right;\">\n",
       "      <th></th>\n",
       "      <th>day</th>\n",
       "      <th>day_of_year</th>\n",
       "    </tr>\n",
       "  </thead>\n",
       "  <tbody>\n",
       "    <tr>\n",
       "      <th>0</th>\n",
       "      <td>2021-03-01</td>\n",
       "      <td>60</td>\n",
       "    </tr>\n",
       "    <tr>\n",
       "      <th>1</th>\n",
       "      <td>2021-03-02</td>\n",
       "      <td>61</td>\n",
       "    </tr>\n",
       "    <tr>\n",
       "      <th>2</th>\n",
       "      <td>2021-03-03</td>\n",
       "      <td>62</td>\n",
       "    </tr>\n",
       "    <tr>\n",
       "      <th>3</th>\n",
       "      <td>2021-03-04</td>\n",
       "      <td>63</td>\n",
       "    </tr>\n",
       "    <tr>\n",
       "      <th>4</th>\n",
       "      <td>2021-03-05</td>\n",
       "      <td>64</td>\n",
       "    </tr>\n",
       "    <tr>\n",
       "      <th>5</th>\n",
       "      <td>2021-03-06</td>\n",
       "      <td>65</td>\n",
       "    </tr>\n",
       "    <tr>\n",
       "      <th>6</th>\n",
       "      <td>2021-03-07</td>\n",
       "      <td>66</td>\n",
       "    </tr>\n",
       "    <tr>\n",
       "      <th>7</th>\n",
       "      <td>2021-03-08</td>\n",
       "      <td>67</td>\n",
       "    </tr>\n",
       "    <tr>\n",
       "      <th>8</th>\n",
       "      <td>2021-03-09</td>\n",
       "      <td>68</td>\n",
       "    </tr>\n",
       "    <tr>\n",
       "      <th>9</th>\n",
       "      <td>2021-03-10</td>\n",
       "      <td>69</td>\n",
       "    </tr>\n",
       "    <tr>\n",
       "      <th>10</th>\n",
       "      <td>2021-03-11</td>\n",
       "      <td>70</td>\n",
       "    </tr>\n",
       "    <tr>\n",
       "      <th>11</th>\n",
       "      <td>2021-03-12</td>\n",
       "      <td>71</td>\n",
       "    </tr>\n",
       "    <tr>\n",
       "      <th>12</th>\n",
       "      <td>2021-03-13</td>\n",
       "      <td>72</td>\n",
       "    </tr>\n",
       "    <tr>\n",
       "      <th>13</th>\n",
       "      <td>2021-03-14</td>\n",
       "      <td>73</td>\n",
       "    </tr>\n",
       "    <tr>\n",
       "      <th>14</th>\n",
       "      <td>2021-03-15</td>\n",
       "      <td>74</td>\n",
       "    </tr>\n",
       "    <tr>\n",
       "      <th>15</th>\n",
       "      <td>2021-03-16</td>\n",
       "      <td>75</td>\n",
       "    </tr>\n",
       "    <tr>\n",
       "      <th>16</th>\n",
       "      <td>2021-03-17</td>\n",
       "      <td>76</td>\n",
       "    </tr>\n",
       "    <tr>\n",
       "      <th>17</th>\n",
       "      <td>2021-03-18</td>\n",
       "      <td>77</td>\n",
       "    </tr>\n",
       "    <tr>\n",
       "      <th>18</th>\n",
       "      <td>2021-03-19</td>\n",
       "      <td>78</td>\n",
       "    </tr>\n",
       "    <tr>\n",
       "      <th>19</th>\n",
       "      <td>2021-03-20</td>\n",
       "      <td>79</td>\n",
       "    </tr>\n",
       "    <tr>\n",
       "      <th>20</th>\n",
       "      <td>2021-03-21</td>\n",
       "      <td>80</td>\n",
       "    </tr>\n",
       "    <tr>\n",
       "      <th>21</th>\n",
       "      <td>2021-03-22</td>\n",
       "      <td>81</td>\n",
       "    </tr>\n",
       "    <tr>\n",
       "      <th>22</th>\n",
       "      <td>2021-03-23</td>\n",
       "      <td>82</td>\n",
       "    </tr>\n",
       "    <tr>\n",
       "      <th>23</th>\n",
       "      <td>2021-03-24</td>\n",
       "      <td>83</td>\n",
       "    </tr>\n",
       "    <tr>\n",
       "      <th>24</th>\n",
       "      <td>2021-03-25</td>\n",
       "      <td>84</td>\n",
       "    </tr>\n",
       "    <tr>\n",
       "      <th>25</th>\n",
       "      <td>2021-03-26</td>\n",
       "      <td>85</td>\n",
       "    </tr>\n",
       "    <tr>\n",
       "      <th>26</th>\n",
       "      <td>2021-03-27</td>\n",
       "      <td>86</td>\n",
       "    </tr>\n",
       "    <tr>\n",
       "      <th>27</th>\n",
       "      <td>2021-03-28</td>\n",
       "      <td>87</td>\n",
       "    </tr>\n",
       "    <tr>\n",
       "      <th>28</th>\n",
       "      <td>2021-03-29</td>\n",
       "      <td>88</td>\n",
       "    </tr>\n",
       "    <tr>\n",
       "      <th>29</th>\n",
       "      <td>2021-03-30</td>\n",
       "      <td>89</td>\n",
       "    </tr>\n",
       "    <tr>\n",
       "      <th>30</th>\n",
       "      <td>2021-03-31</td>\n",
       "      <td>90</td>\n",
       "    </tr>\n",
       "  </tbody>\n",
       "</table>\n",
       "</div>"
      ],
      "text/plain": [
       "          day  day_of_year\n",
       "0  2021-03-01           60\n",
       "1  2021-03-02           61\n",
       "2  2021-03-03           62\n",
       "3  2021-03-04           63\n",
       "4  2021-03-05           64\n",
       "5  2021-03-06           65\n",
       "6  2021-03-07           66\n",
       "7  2021-03-08           67\n",
       "8  2021-03-09           68\n",
       "9  2021-03-10           69\n",
       "10 2021-03-11           70\n",
       "11 2021-03-12           71\n",
       "12 2021-03-13           72\n",
       "13 2021-03-14           73\n",
       "14 2021-03-15           74\n",
       "15 2021-03-16           75\n",
       "16 2021-03-17           76\n",
       "17 2021-03-18           77\n",
       "18 2021-03-19           78\n",
       "19 2021-03-20           79\n",
       "20 2021-03-21           80\n",
       "21 2021-03-22           81\n",
       "22 2021-03-23           82\n",
       "23 2021-03-24           83\n",
       "24 2021-03-25           84\n",
       "25 2021-03-26           85\n",
       "26 2021-03-27           86\n",
       "27 2021-03-28           87\n",
       "28 2021-03-29           88\n",
       "29 2021-03-30           89\n",
       "30 2021-03-31           90"
      ]
     },
     "execution_count": 9,
     "metadata": {},
     "output_type": "execute_result"
    }
   ],
   "source": [
    "date_range = pd.date_range(start=\"2021-03-01\", periods=31)\n",
    "date = pd.DataFrame(data = date_range, columns=[\"day\"])\n",
    "date['day_of_year'] = date['day'].dt.dayofyear\n",
    "date"
   ]
  },
  {
   "cell_type": "markdown",
   "metadata": {
    "id": "o3HKIKlP15Ro"
   },
   "source": [
    "### <a name='5'></a> Exercise 115\n",
    "\n",
    "The following _data_dict_ dictionary is given.\n",
    "```\n",
    "data_dict = {\n",
    "    'normal': np.random.normal(loc=0, scale=1, size=1000),\n",
    "    'uniform': np.random.uniform(low=0, high=1, size=1000),\n",
    "    'binomial': np.random.binomial(n=1, p=0.2, size=1000)\n",
    "}\n",
    "```\n",
    "Build the _DateFrame_ object from this dictionary. Additionally, as an index, add a date from 01/01/2020 and assign it to the _df_ variable.\n",
    "\n"
   ]
  },
  {
   "cell_type": "code",
   "execution_count": 2,
   "metadata": {
    "id": "n8K9h0j-SBNy"
   },
   "outputs": [
    {
     "data": {
      "text/html": [
       "<div>\n",
       "<style scoped>\n",
       "    .dataframe tbody tr th:only-of-type {\n",
       "        vertical-align: middle;\n",
       "    }\n",
       "\n",
       "    .dataframe tbody tr th {\n",
       "        vertical-align: top;\n",
       "    }\n",
       "\n",
       "    .dataframe thead th {\n",
       "        text-align: right;\n",
       "    }\n",
       "</style>\n",
       "<table border=\"1\" class=\"dataframe\">\n",
       "  <thead>\n",
       "    <tr style=\"text-align: right;\">\n",
       "      <th></th>\n",
       "      <th>normal</th>\n",
       "      <th>uniform</th>\n",
       "      <th>binomial</th>\n",
       "    </tr>\n",
       "  </thead>\n",
       "  <tbody>\n",
       "    <tr>\n",
       "      <th>2020-01-01</th>\n",
       "      <td>0.496714</td>\n",
       "      <td>0.167483</td>\n",
       "      <td>0</td>\n",
       "    </tr>\n",
       "    <tr>\n",
       "      <th>2020-01-02</th>\n",
       "      <td>-0.138264</td>\n",
       "      <td>0.104568</td>\n",
       "      <td>0</td>\n",
       "    </tr>\n",
       "    <tr>\n",
       "      <th>2020-01-03</th>\n",
       "      <td>0.647689</td>\n",
       "      <td>0.636430</td>\n",
       "      <td>0</td>\n",
       "    </tr>\n",
       "    <tr>\n",
       "      <th>2020-01-04</th>\n",
       "      <td>1.523030</td>\n",
       "      <td>0.706476</td>\n",
       "      <td>0</td>\n",
       "    </tr>\n",
       "    <tr>\n",
       "      <th>2020-01-05</th>\n",
       "      <td>-0.234153</td>\n",
       "      <td>0.031586</td>\n",
       "      <td>1</td>\n",
       "    </tr>\n",
       "    <tr>\n",
       "      <th>...</th>\n",
       "      <td>...</td>\n",
       "      <td>...</td>\n",
       "      <td>...</td>\n",
       "    </tr>\n",
       "    <tr>\n",
       "      <th>2022-09-22</th>\n",
       "      <td>-0.281100</td>\n",
       "      <td>0.280683</td>\n",
       "      <td>1</td>\n",
       "    </tr>\n",
       "    <tr>\n",
       "      <th>2022-09-23</th>\n",
       "      <td>1.797687</td>\n",
       "      <td>0.206993</td>\n",
       "      <td>0</td>\n",
       "    </tr>\n",
       "    <tr>\n",
       "      <th>2022-09-24</th>\n",
       "      <td>0.640843</td>\n",
       "      <td>0.516573</td>\n",
       "      <td>0</td>\n",
       "    </tr>\n",
       "    <tr>\n",
       "      <th>2022-09-25</th>\n",
       "      <td>-0.571179</td>\n",
       "      <td>0.005506</td>\n",
       "      <td>1</td>\n",
       "    </tr>\n",
       "    <tr>\n",
       "      <th>2022-09-26</th>\n",
       "      <td>0.572583</td>\n",
       "      <td>0.007664</td>\n",
       "      <td>0</td>\n",
       "    </tr>\n",
       "  </tbody>\n",
       "</table>\n",
       "<p>1000 rows × 3 columns</p>\n",
       "</div>"
      ],
      "text/plain": [
       "              normal   uniform  binomial\n",
       "2020-01-01  0.496714  0.167483         0\n",
       "2020-01-02 -0.138264  0.104568         0\n",
       "2020-01-03  0.647689  0.636430         0\n",
       "2020-01-04  1.523030  0.706476         0\n",
       "2020-01-05 -0.234153  0.031586         1\n",
       "...              ...       ...       ...\n",
       "2022-09-22 -0.281100  0.280683         1\n",
       "2022-09-23  1.797687  0.206993         0\n",
       "2022-09-24  0.640843  0.516573         0\n",
       "2022-09-25 -0.571179  0.005506         1\n",
       "2022-09-26  0.572583  0.007664         0\n",
       "\n",
       "[1000 rows x 3 columns]"
      ]
     },
     "execution_count": 2,
     "metadata": {},
     "output_type": "execute_result"
    }
   ],
   "source": [
    "data_dict = {\n",
    "    'normal': np.random.normal(loc=0, scale=1, size=1000),\n",
    "    'uniform': np.random.uniform(low=0, high=1, size=1000),\n",
    "    'binomial': np.random.binomial(n=1, p=0.2, size=1000)\n",
    "}\n",
    "\n",
    "df = pd.DataFrame(data=data_dict, index = pd.date_range(start=\"2020-01-01\", periods=1000))\n",
    "df"
   ]
  },
  {
   "cell_type": "markdown",
   "metadata": {
    "id": "PunXd_Ey16so"
   },
   "source": [
    "### <a name='6'></a> Exercise 116\n",
    "Display the first 10 rows of the _df_ object from the previous exercise."
   ]
  },
  {
   "cell_type": "code",
   "execution_count": 3,
   "metadata": {
    "id": "mMkcu2aZSInw"
   },
   "outputs": [
    {
     "data": {
      "text/html": [
       "<div>\n",
       "<style scoped>\n",
       "    .dataframe tbody tr th:only-of-type {\n",
       "        vertical-align: middle;\n",
       "    }\n",
       "\n",
       "    .dataframe tbody tr th {\n",
       "        vertical-align: top;\n",
       "    }\n",
       "\n",
       "    .dataframe thead th {\n",
       "        text-align: right;\n",
       "    }\n",
       "</style>\n",
       "<table border=\"1\" class=\"dataframe\">\n",
       "  <thead>\n",
       "    <tr style=\"text-align: right;\">\n",
       "      <th></th>\n",
       "      <th>normal</th>\n",
       "      <th>uniform</th>\n",
       "      <th>binomial</th>\n",
       "    </tr>\n",
       "  </thead>\n",
       "  <tbody>\n",
       "    <tr>\n",
       "      <th>2020-01-01</th>\n",
       "      <td>0.496714</td>\n",
       "      <td>0.167483</td>\n",
       "      <td>0</td>\n",
       "    </tr>\n",
       "    <tr>\n",
       "      <th>2020-01-02</th>\n",
       "      <td>-0.138264</td>\n",
       "      <td>0.104568</td>\n",
       "      <td>0</td>\n",
       "    </tr>\n",
       "    <tr>\n",
       "      <th>2020-01-03</th>\n",
       "      <td>0.647689</td>\n",
       "      <td>0.636430</td>\n",
       "      <td>0</td>\n",
       "    </tr>\n",
       "    <tr>\n",
       "      <th>2020-01-04</th>\n",
       "      <td>1.523030</td>\n",
       "      <td>0.706476</td>\n",
       "      <td>0</td>\n",
       "    </tr>\n",
       "    <tr>\n",
       "      <th>2020-01-05</th>\n",
       "      <td>-0.234153</td>\n",
       "      <td>0.031586</td>\n",
       "      <td>1</td>\n",
       "    </tr>\n",
       "    <tr>\n",
       "      <th>2020-01-06</th>\n",
       "      <td>-0.234137</td>\n",
       "      <td>0.936212</td>\n",
       "      <td>0</td>\n",
       "    </tr>\n",
       "    <tr>\n",
       "      <th>2020-01-07</th>\n",
       "      <td>1.579213</td>\n",
       "      <td>0.051971</td>\n",
       "      <td>0</td>\n",
       "    </tr>\n",
       "    <tr>\n",
       "      <th>2020-01-08</th>\n",
       "      <td>0.767435</td>\n",
       "      <td>0.541296</td>\n",
       "      <td>0</td>\n",
       "    </tr>\n",
       "    <tr>\n",
       "      <th>2020-01-09</th>\n",
       "      <td>-0.469474</td>\n",
       "      <td>0.709061</td>\n",
       "      <td>1</td>\n",
       "    </tr>\n",
       "    <tr>\n",
       "      <th>2020-01-10</th>\n",
       "      <td>0.542560</td>\n",
       "      <td>0.870969</td>\n",
       "      <td>0</td>\n",
       "    </tr>\n",
       "  </tbody>\n",
       "</table>\n",
       "</div>"
      ],
      "text/plain": [
       "              normal   uniform  binomial\n",
       "2020-01-01  0.496714  0.167483         0\n",
       "2020-01-02 -0.138264  0.104568         0\n",
       "2020-01-03  0.647689  0.636430         0\n",
       "2020-01-04  1.523030  0.706476         0\n",
       "2020-01-05 -0.234153  0.031586         1\n",
       "2020-01-06 -0.234137  0.936212         0\n",
       "2020-01-07  1.579213  0.051971         0\n",
       "2020-01-08  0.767435  0.541296         0\n",
       "2020-01-09 -0.469474  0.709061         1\n",
       "2020-01-10  0.542560  0.870969         0"
      ]
     },
     "metadata": {},
     "output_type": "display_data"
    }
   ],
   "source": [
    "display(df.head(10))"
   ]
  },
  {
   "cell_type": "markdown",
   "metadata": {
    "id": "_yCTUDkKSK2U"
   },
   "source": [
    "Display the last 8 rows of the df object from the previous exercise."
   ]
  },
  {
   "cell_type": "code",
   "execution_count": 4,
   "metadata": {
    "id": "ewwudTKRSM10"
   },
   "outputs": [
    {
     "data": {
      "text/html": [
       "<div>\n",
       "<style scoped>\n",
       "    .dataframe tbody tr th:only-of-type {\n",
       "        vertical-align: middle;\n",
       "    }\n",
       "\n",
       "    .dataframe tbody tr th {\n",
       "        vertical-align: top;\n",
       "    }\n",
       "\n",
       "    .dataframe thead th {\n",
       "        text-align: right;\n",
       "    }\n",
       "</style>\n",
       "<table border=\"1\" class=\"dataframe\">\n",
       "  <thead>\n",
       "    <tr style=\"text-align: right;\">\n",
       "      <th></th>\n",
       "      <th>normal</th>\n",
       "      <th>uniform</th>\n",
       "      <th>binomial</th>\n",
       "    </tr>\n",
       "  </thead>\n",
       "  <tbody>\n",
       "    <tr>\n",
       "      <th>2022-09-19</th>\n",
       "      <td>-0.247177</td>\n",
       "      <td>0.482041</td>\n",
       "      <td>1</td>\n",
       "    </tr>\n",
       "    <tr>\n",
       "      <th>2022-09-20</th>\n",
       "      <td>-0.681984</td>\n",
       "      <td>0.196098</td>\n",
       "      <td>0</td>\n",
       "    </tr>\n",
       "    <tr>\n",
       "      <th>2022-09-21</th>\n",
       "      <td>-1.001620</td>\n",
       "      <td>0.610780</td>\n",
       "      <td>0</td>\n",
       "    </tr>\n",
       "    <tr>\n",
       "      <th>2022-09-22</th>\n",
       "      <td>-0.281100</td>\n",
       "      <td>0.280683</td>\n",
       "      <td>1</td>\n",
       "    </tr>\n",
       "    <tr>\n",
       "      <th>2022-09-23</th>\n",
       "      <td>1.797687</td>\n",
       "      <td>0.206993</td>\n",
       "      <td>0</td>\n",
       "    </tr>\n",
       "    <tr>\n",
       "      <th>2022-09-24</th>\n",
       "      <td>0.640843</td>\n",
       "      <td>0.516573</td>\n",
       "      <td>0</td>\n",
       "    </tr>\n",
       "    <tr>\n",
       "      <th>2022-09-25</th>\n",
       "      <td>-0.571179</td>\n",
       "      <td>0.005506</td>\n",
       "      <td>1</td>\n",
       "    </tr>\n",
       "    <tr>\n",
       "      <th>2022-09-26</th>\n",
       "      <td>0.572583</td>\n",
       "      <td>0.007664</td>\n",
       "      <td>0</td>\n",
       "    </tr>\n",
       "  </tbody>\n",
       "</table>\n",
       "</div>"
      ],
      "text/plain": [
       "              normal   uniform  binomial\n",
       "2022-09-19 -0.247177  0.482041         1\n",
       "2022-09-20 -0.681984  0.196098         0\n",
       "2022-09-21 -1.001620  0.610780         0\n",
       "2022-09-22 -0.281100  0.280683         1\n",
       "2022-09-23  1.797687  0.206993         0\n",
       "2022-09-24  0.640843  0.516573         0\n",
       "2022-09-25 -0.571179  0.005506         1\n",
       "2022-09-26  0.572583  0.007664         0"
      ]
     },
     "metadata": {},
     "output_type": "display_data"
    }
   ],
   "source": [
    "display(df.tail(8))"
   ]
  },
  {
   "cell_type": "markdown",
   "metadata": {
    "id": "hOhqDRz618Tx"
   },
   "source": [
    "### <a name='7'></a> Exercise 117\n",
    "Display basic information about the _df_ object (number of rows, number of columns, type of variables)."
   ]
  },
  {
   "cell_type": "code",
   "execution_count": 5,
   "metadata": {
    "id": "qRbNt5JsSUZV"
   },
   "outputs": [
    {
     "name": "stdout",
     "output_type": "stream",
     "text": [
      "<class 'pandas.core.frame.DataFrame'>\n",
      "DatetimeIndex: 1000 entries, 2020-01-01 to 2022-09-26\n",
      "Freq: D\n",
      "Data columns (total 3 columns):\n",
      " #   Column    Non-Null Count  Dtype  \n",
      "---  ------    --------------  -----  \n",
      " 0   normal    1000 non-null   float64\n",
      " 1   uniform   1000 non-null   float64\n",
      " 2   binomial  1000 non-null   int32  \n",
      "dtypes: float64(2), int32(1)\n",
      "memory usage: 27.3 KB\n"
     ]
    },
    {
     "data": {
      "text/plain": [
       "None"
      ]
     },
     "metadata": {},
     "output_type": "display_data"
    }
   ],
   "source": [
    "display(df.info())"
   ]
  },
  {
   "cell_type": "markdown",
   "metadata": {
    "id": "NvM6GOcrSXDa"
   },
   "source": [
    "Display basic statistics of _df_ (mean value, deviation, min, max, median)."
   ]
  },
  {
   "cell_type": "code",
   "execution_count": 6,
   "metadata": {
    "id": "vofzFUSMSbjj"
   },
   "outputs": [
    {
     "data": {
      "text/html": [
       "<div>\n",
       "<style scoped>\n",
       "    .dataframe tbody tr th:only-of-type {\n",
       "        vertical-align: middle;\n",
       "    }\n",
       "\n",
       "    .dataframe tbody tr th {\n",
       "        vertical-align: top;\n",
       "    }\n",
       "\n",
       "    .dataframe thead th {\n",
       "        text-align: right;\n",
       "    }\n",
       "</style>\n",
       "<table border=\"1\" class=\"dataframe\">\n",
       "  <thead>\n",
       "    <tr style=\"text-align: right;\">\n",
       "      <th></th>\n",
       "      <th>normal</th>\n",
       "      <th>uniform</th>\n",
       "      <th>binomial</th>\n",
       "    </tr>\n",
       "  </thead>\n",
       "  <tbody>\n",
       "    <tr>\n",
       "      <th>count</th>\n",
       "      <td>1000.000000</td>\n",
       "      <td>1000.000000</td>\n",
       "      <td>1000.00000</td>\n",
       "    </tr>\n",
       "    <tr>\n",
       "      <th>mean</th>\n",
       "      <td>0.019332</td>\n",
       "      <td>0.503649</td>\n",
       "      <td>0.19200</td>\n",
       "    </tr>\n",
       "    <tr>\n",
       "      <th>std</th>\n",
       "      <td>0.979216</td>\n",
       "      <td>0.288357</td>\n",
       "      <td>0.39407</td>\n",
       "    </tr>\n",
       "    <tr>\n",
       "      <th>min</th>\n",
       "      <td>-3.241267</td>\n",
       "      <td>0.003218</td>\n",
       "      <td>0.00000</td>\n",
       "    </tr>\n",
       "    <tr>\n",
       "      <th>25%</th>\n",
       "      <td>-0.647590</td>\n",
       "      <td>0.247199</td>\n",
       "      <td>0.00000</td>\n",
       "    </tr>\n",
       "    <tr>\n",
       "      <th>50%</th>\n",
       "      <td>0.025301</td>\n",
       "      <td>0.516126</td>\n",
       "      <td>0.00000</td>\n",
       "    </tr>\n",
       "    <tr>\n",
       "      <th>75%</th>\n",
       "      <td>0.647944</td>\n",
       "      <td>0.746319</td>\n",
       "      <td>0.00000</td>\n",
       "    </tr>\n",
       "    <tr>\n",
       "      <th>max</th>\n",
       "      <td>3.852731</td>\n",
       "      <td>0.999414</td>\n",
       "      <td>1.00000</td>\n",
       "    </tr>\n",
       "  </tbody>\n",
       "</table>\n",
       "</div>"
      ],
      "text/plain": [
       "            normal      uniform    binomial\n",
       "count  1000.000000  1000.000000  1000.00000\n",
       "mean      0.019332     0.503649     0.19200\n",
       "std       0.979216     0.288357     0.39407\n",
       "min      -3.241267     0.003218     0.00000\n",
       "25%      -0.647590     0.247199     0.00000\n",
       "50%       0.025301     0.516126     0.00000\n",
       "75%       0.647944     0.746319     0.00000\n",
       "max       3.852731     0.999414     1.00000"
      ]
     },
     "metadata": {},
     "output_type": "display_data"
    }
   ],
   "source": [
    "display(df.describe())"
   ]
  },
  {
   "cell_type": "markdown",
   "metadata": {
    "id": "TXUd_4631-gw"
   },
   "source": [
    "### <a name='8'></a> Exercise 118\n",
    "Import the _seaborn_ library for data visualization."
   ]
  },
  {
   "cell_type": "code",
   "execution_count": 7,
   "metadata": {
    "id": "GNs9q2T3ShLm"
   },
   "outputs": [],
   "source": [
    "import seaborn as sns\n",
    "\n",
    "sns.set()"
   ]
  },
  {
   "cell_type": "markdown",
   "metadata": {
    "id": "6DfIMJlRSizp"
   },
   "source": [
    "Using the _pd.DataFrame.plot_ method, build histograms for the next three variables.\n",
    "* normal (20 bins)"
   ]
  },
  {
   "cell_type": "code",
   "execution_count": 8,
   "metadata": {
    "id": "YAfApGLSSnBe"
   },
   "outputs": [
    {
     "data": {
      "text/plain": [
       "<AxesSubplot:ylabel='Frequency'>"
      ]
     },
     "execution_count": 8,
     "metadata": {},
     "output_type": "execute_result"
    },
    {
     "data": {
      "image/png": "[encoded data removed]",
      "text/plain": [
       "<Figure size 432x288 with 1 Axes>"
      ]
     },
     "metadata": {},
     "output_type": "display_data"
    }
   ],
   "source": [
    "df['normal'].plot(kind='hist', bins=20)"
   ]
  },
  {
   "cell_type": "markdown",
   "metadata": {
    "id": "OGF_a8UsSr3h"
   },
   "source": [
    "* uniform (30 bins)"
   ]
  },
  {
   "cell_type": "code",
   "execution_count": 9,
   "metadata": {
    "id": "RBgfpmVvStfz"
   },
   "outputs": [
    {
     "data": {
      "text/plain": [
       "<AxesSubplot:ylabel='Frequency'>"
      ]
     },
     "execution_count": 9,
     "metadata": {},
     "output_type": "execute_result"
    },
    {
     "data": {
      "image/png": "[encoded data removed]",
      "text/plain": [
       "<Figure size 432x288 with 1 Axes>"
      ]
     },
     "metadata": {},
     "output_type": "display_data"
    }
   ],
   "source": [
    "df['uniform'].plot(kind='hist', bins=30)"
   ]
  },
  {
   "cell_type": "markdown",
   "metadata": {
    "id": "mnmeaNTSSu4J"
   },
   "source": [
    "* binomial"
   ]
  },
  {
   "cell_type": "code",
   "execution_count": 10,
   "metadata": {
    "id": "qCfo7CtoSwJG"
   },
   "outputs": [
    {
     "data": {
      "text/plain": [
       "<AxesSubplot:ylabel='Frequency'>"
      ]
     },
     "execution_count": 10,
     "metadata": {},
     "output_type": "execute_result"
    },
    {
     "data": {
      "image/png": "[encoded data removed]",
      "text/plain": [
       "<Figure size 432x288 with 1 Axes>"
      ]
     },
     "metadata": {},
     "output_type": "display_data"
    }
   ],
   "source": [
    "df['binomial'].plot(kind='hist')"
   ]
  },
  {
   "cell_type": "markdown",
   "metadata": {
    "id": "tgI6xEn-2AQo"
   },
   "source": [
    "### <a name='9'></a> Exercise 119\n",
    "Save the _df_ object to the _'dataframe.csv'_ file."
   ]
  },
  {
   "cell_type": "code",
   "execution_count": 11,
   "metadata": {
    "id": "zTNl1TtiS1MM"
   },
   "outputs": [],
   "source": [
    "df.to_csv('dataframe.csv')"
   ]
  },
  {
   "cell_type": "markdown",
   "metadata": {
    "id": "cceYif526ftD"
   },
   "source": [
    "Check the solution"
   ]
  },
  {
   "cell_type": "code",
   "execution_count": 15,
   "metadata": {
    "id": "tW1RKFhZS2YM"
   },
   "outputs": [
    {
     "name": "stdout",
     "output_type": "stream",
     "text": [
      ",normal,uniform,binomial\n",
      "\n",
      "2020-01-01,0.4967141530112327,0.16748258225906976,0\n",
      "\n",
      "2020-01-02,-0.13826430117118466,0.10456784033440025,0\n",
      "\n",
      "2020-01-03,0.6476885381006925,0.6364302495436367,0\n",
      "\n",
      "2020-01-04,1.5230298564080254,0.7064757264869012,0\n",
      "\n",
      "2020-01-05,-0.23415337472333597,0.03158614482564204,1\n",
      "\n",
      "2020-01-06,-0.23413695694918055,0.9362122462436898,0\n",
      "\n",
      "2020-01-07,1.5792128155073915,0.05197128365147241,0\n",
      "\n",
      "2020-01-08,0.7674347291529088,0.5412963353010705,0\n",
      "\n",
      "2020-01-09,-0.4694743859349521,0.7090605194509164,1\n",
      "\n"
     ]
    }
   ],
   "source": [
    "with open('dataframe.csv') as f:\n",
    "    for _ in range(10): # first 10 lines\n",
    "        print(f.readline())"
   ]
  },
  {
   "cell_type": "markdown",
   "metadata": {
    "id": "wxhpf-uq2B1I"
   },
   "source": [
    "### <a name='10'></a> Exercise 120\n",
    "Load the _dataframe.csv_ file into the _df_new_ variable (remember to load the index correctly)."
   ]
  },
  {
   "cell_type": "code",
   "execution_count": 18,
   "metadata": {
    "id": "YFc0KW6URsuc"
   },
   "outputs": [
    {
     "data": {
      "text/html": [
       "<div>\n",
       "<style scoped>\n",
       "    .dataframe tbody tr th:only-of-type {\n",
       "        vertical-align: middle;\n",
       "    }\n",
       "\n",
       "    .dataframe tbody tr th {\n",
       "        vertical-align: top;\n",
       "    }\n",
       "\n",
       "    .dataframe thead th {\n",
       "        text-align: right;\n",
       "    }\n",
       "</style>\n",
       "<table border=\"1\" class=\"dataframe\">\n",
       "  <thead>\n",
       "    <tr style=\"text-align: right;\">\n",
       "      <th></th>\n",
       "      <th>normal</th>\n",
       "      <th>uniform</th>\n",
       "      <th>binomial</th>\n",
       "    </tr>\n",
       "  </thead>\n",
       "  <tbody>\n",
       "    <tr>\n",
       "      <th>2020-01-01</th>\n",
       "      <td>0.496714</td>\n",
       "      <td>0.167483</td>\n",
       "      <td>0</td>\n",
       "    </tr>\n",
       "    <tr>\n",
       "      <th>2020-01-02</th>\n",
       "      <td>-0.138264</td>\n",
       "      <td>0.104568</td>\n",
       "      <td>0</td>\n",
       "    </tr>\n",
       "    <tr>\n",
       "      <th>2020-01-03</th>\n",
       "      <td>0.647689</td>\n",
       "      <td>0.636430</td>\n",
       "      <td>0</td>\n",
       "    </tr>\n",
       "    <tr>\n",
       "      <th>2020-01-04</th>\n",
       "      <td>1.523030</td>\n",
       "      <td>0.706476</td>\n",
       "      <td>0</td>\n",
       "    </tr>\n",
       "    <tr>\n",
       "      <th>2020-01-05</th>\n",
       "      <td>-0.234153</td>\n",
       "      <td>0.031586</td>\n",
       "      <td>1</td>\n",
       "    </tr>\n",
       "  </tbody>\n",
       "</table>\n",
       "</div>"
      ],
      "text/plain": [
       "              normal   uniform  binomial\n",
       "2020-01-01  0.496714  0.167483         0\n",
       "2020-01-02 -0.138264  0.104568         0\n",
       "2020-01-03  0.647689  0.636430         0\n",
       "2020-01-04  1.523030  0.706476         0\n",
       "2020-01-05 -0.234153  0.031586         1"
      ]
     },
     "execution_count": 18,
     "metadata": {},
     "output_type": "execute_result"
    }
   ],
   "source": [
    "df_new = pd.read_csv(\"dataframe.csv\", index_col=0)\n",
    "df_new.head()"
   ]
  }
 ],
 "metadata": {
  "colab": {
   "collapsed_sections": [],
   "name": "111-120_exercises.ipynb",
   "provenance": []
  },
  "kernelspec": {
   "display_name": "Python 3",
   "language": "python",
   "name": "python3"
  },
  "language_info": {
   "codemirror_mode": {
    "name": "ipython",
    "version": 3
   },
   "file_extension": ".py",
   "mimetype": "text/x-python",
   "name": "python",
   "nbconvert_exporter": "python",
   "pygments_lexer": "ipython3",
   "version": "3.8.8"
  }
 },
 "nbformat": 4,
 "nbformat_minor": 1
}
