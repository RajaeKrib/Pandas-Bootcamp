{
 "cells": [
  {
   "cell_type": "markdown",
   "metadata": {
    "id": "WLEgCW5F1hho"
   },
   "source": [
    "## Pandas\n",
    "\n",
    "### Table of contents:\n",
    "* [Import biblioteki](#0)\n",
    "* [Exercise 101](#1)\n",
    "* [Exercise 102](#2)\n",
    "* [Exercise 103](#3)\n",
    "* [Exercise 104](#4)\n",
    "* [Exercise 105](#5)\n",
    "* [Exercise 106](#6)\n",
    "* [Exercise 107](#7)\n",
    "* [Exercise 108](#8)\n",
    "* [Exercise 109](#9)\n",
    "* [Exercise 110](#10)"
   ]
  },
  {
   "cell_type": "markdown",
   "metadata": {
    "id": "zeLOLmTj1kBM"
   },
   "source": [
    "### <a name='0'></a> Import of libraries"
   ]
  },
  {
   "cell_type": "code",
   "execution_count": 1,
   "metadata": {
    "id": "HXMB7SMe1Wnz"
   },
   "outputs": [
    {
     "data": {
      "text/plain": [
       "'1.2.3'"
      ]
     },
     "execution_count": 1,
     "metadata": {},
     "output_type": "execute_result"
    }
   ],
   "source": [
    "import numpy as np\n",
    "import pandas as pd\n",
    "\n",
    "pd.__version__"
   ]
  },
  {
   "cell_type": "markdown",
   "metadata": {
    "id": "cyc70pMe1oCg"
   },
   "source": [
    "### <a name='1'></a> Exercise 101\n",
    "From the list below:\n",
    "```\n",
    "stocks = ['PLW', 'CDR', '11B', 'TEN']\n",
    "```\n",
    "Create a Series object.\n",
    "\n",
    "__Expected result:__\n",
    "\n",
    "```\n",
    "0    PLW\n",
    "1    CDR\n",
    "2    11B\n",
    "3    TEN\n",
    "dtype: object\n",
    "```"
   ]
  },
  {
   "cell_type": "code",
   "execution_count": 2,
   "metadata": {
    "id": "jvw4LDdmNlin"
   },
   "outputs": [
    {
     "data": {
      "text/plain": [
       "0    PLW\n",
       "1    CDR\n",
       "2    11B\n",
       "3    TEN\n",
       "dtype: object"
      ]
     },
     "execution_count": 2,
     "metadata": {},
     "output_type": "execute_result"
    }
   ],
   "source": [
    "stocks = ['PLW', 'CDR', '11B', 'TEN']\n",
    "pd.Series(stocks)"
   ]
  },
  {
   "cell_type": "markdown",
   "metadata": {
    "id": "J9pY1rtr1sC0"
   },
   "source": [
    "### <a name='2'></a> Exercise 102\n",
    "From the dictionary below:\n",
    "\n",
    "```\n",
    "stocks = {'PLW': 387.00, 'CDR': 339.5, 'TEN': 349.5, '11B': 391.0}\n",
    "```\n",
    "Create a Series object and assign it to the _quotations_ variable.\n",
    "\n",
    "__Expected result:__\n",
    "\n",
    "```\n",
    "PLW    387.0\n",
    "CDR    339.5\n",
    "TEN    349.5\n",
    "11B    391.0\n",
    "dtype: float64\n",
    "```\n",
    "\n"
   ]
  },
  {
   "cell_type": "code",
   "execution_count": 3,
   "metadata": {
    "id": "IudOIn6cN0UO"
   },
   "outputs": [
    {
     "data": {
      "text/plain": [
       "PLW    387.0\n",
       "CDR    339.5\n",
       "TEN    349.5\n",
       "11B    391.0\n",
       "dtype: float64"
      ]
     },
     "execution_count": 3,
     "metadata": {},
     "output_type": "execute_result"
    }
   ],
   "source": [
    "stocks = {'PLW': 387.00, 'CDR': 339.5, 'TEN': 349.5, '11B': 391.0}\n",
    "\n",
    "quotations = pd.Series(stocks)\n",
    "quotations"
   ]
  },
  {
   "cell_type": "markdown",
   "metadata": {
    "id": "XQLYT2m11wVG"
   },
   "source": [
    "### <a name='3'></a> Exercise 103\n",
    "\n",
    "Convert _quotations_ to a list.\n",
    "\n",
    "__Expected result:__\n",
    "```\n",
    "[387.0, 339.5, 349.5, 391.0]\n",
    "```"
   ]
  },
  {
   "cell_type": "code",
   "execution_count": 4,
   "metadata": {
    "id": "JDz_gfbcOBKG"
   },
   "outputs": [
    {
     "data": {
      "text/plain": [
       "[387.0, 339.5, 349.5, 391.0]"
      ]
     },
     "execution_count": 4,
     "metadata": {},
     "output_type": "execute_result"
    }
   ],
   "source": [
    "quotations.to_list()"
   ]
  },
  {
   "cell_type": "markdown",
   "metadata": {
    "id": "4xTKSUzg10MK"
   },
   "source": [
    "### <a name='4'></a> Exercise 104\n",
    "Convert the _quotations_ object to the _DataFrame_ object. Set the column name to _price_."
   ]
  },
  {
   "cell_type": "code",
   "execution_count": 10,
   "metadata": {
    "id": "QyrLUIQVOI0I"
   },
   "outputs": [
    {
     "data": {
      "text/html": [
       "<div>\n",
       "<style scoped>\n",
       "    .dataframe tbody tr th:only-of-type {\n",
       "        vertical-align: middle;\n",
       "    }\n",
       "\n",
       "    .dataframe tbody tr th {\n",
       "        vertical-align: top;\n",
       "    }\n",
       "\n",
       "    .dataframe thead th {\n",
       "        text-align: right;\n",
       "    }\n",
       "</style>\n",
       "<table border=\"1\" class=\"dataframe\">\n",
       "  <thead>\n",
       "    <tr style=\"text-align: right;\">\n",
       "      <th></th>\n",
       "      <th>price</th>\n",
       "    </tr>\n",
       "  </thead>\n",
       "  <tbody>\n",
       "    <tr>\n",
       "      <th>PLW</th>\n",
       "      <td>387.0</td>\n",
       "    </tr>\n",
       "    <tr>\n",
       "      <th>CDR</th>\n",
       "      <td>339.5</td>\n",
       "    </tr>\n",
       "    <tr>\n",
       "      <th>TEN</th>\n",
       "      <td>349.5</td>\n",
       "    </tr>\n",
       "    <tr>\n",
       "      <th>11B</th>\n",
       "      <td>391.0</td>\n",
       "    </tr>\n",
       "  </tbody>\n",
       "</table>\n",
       "</div>"
      ],
      "text/plain": [
       "     price\n",
       "PLW  387.0\n",
       "CDR  339.5\n",
       "TEN  349.5\n",
       "11B  391.0"
      ]
     },
     "execution_count": 10,
     "metadata": {},
     "output_type": "execute_result"
    }
   ],
   "source": [
    "pd.DataFrame(quotations, columns=['price'])"
   ]
  },
  {
   "cell_type": "markdown",
   "metadata": {
    "id": "o3HKIKlP15Ro"
   },
   "source": [
    "### <a name='5'></a> Exercise 105\n",
    "Using the _numpy_ library, build the following _Series_ object:\n",
    "\n",
    "```\n",
    "101    10.0\n",
    "102    20.0\n",
    "103    30.0\n",
    "104    40.0\n",
    "105    50.0\n",
    "106    60.0\n",
    "107    70.0\n",
    "108    80.0\n",
    "109    90.0\n",
    "dtype: float64\n",
    "```"
   ]
  },
  {
   "cell_type": "code",
   "execution_count": 17,
   "metadata": {
    "id": "OAEIMF61OOWQ"
   },
   "outputs": [
    {
     "data": {
      "text/plain": [
       "101    10.0\n",
       "102    20.0\n",
       "103    30.0\n",
       "104    40.0\n",
       "105    50.0\n",
       "106    60.0\n",
       "107    70.0\n",
       "108    80.0\n",
       "109    90.0\n",
       "dtype: float64"
      ]
     },
     "execution_count": 17,
     "metadata": {},
     "output_type": "execute_result"
    }
   ],
   "source": [
    "pd.Series(np.arange(10,100,10,dtype=float),np.arange(101,110))"
   ]
  },
  {
   "cell_type": "markdown",
   "metadata": {
    "id": "PunXd_Ey16so"
   },
   "source": [
    "### <a name='6'></a> Exercise 106\n",
    "The following object of type _Series_ is given:\n",
    "```\n",
    "series = pd.Series(['001', '002', '003', '004'], list('abcd'))\n",
    "```\n",
    "Convert object type _series_ to _int_ values.\n",
    "\n"
   ]
  },
  {
   "cell_type": "code",
   "execution_count": 20,
   "metadata": {
    "id": "FeWykLVAOm3t"
   },
   "outputs": [
    {
     "data": {
      "text/plain": [
       "a    1\n",
       "b    2\n",
       "c    3\n",
       "d    4\n",
       "dtype: int32"
      ]
     },
     "execution_count": 20,
     "metadata": {},
     "output_type": "execute_result"
    }
   ],
   "source": [
    "series = pd.Series(['001', '002', '003', '004'], list('abcd'))\n",
    "series.astype(int)"
   ]
  },
  {
   "cell_type": "markdown",
   "metadata": {
    "id": "_6bOUH4SOqse"
   },
   "source": [
    "Convert object type _series_ to _float_ values."
   ]
  },
  {
   "cell_type": "code",
   "execution_count": 21,
   "metadata": {
    "id": "gDBgJSQPOsYC"
   },
   "outputs": [
    {
     "data": {
      "text/plain": [
       "a    1.0\n",
       "b    2.0\n",
       "c    3.0\n",
       "d    4.0\n",
       "dtype: float64"
      ]
     },
     "execution_count": 21,
     "metadata": {},
     "output_type": "execute_result"
    }
   ],
   "source": [
    "series.astype(float)"
   ]
  },
  {
   "cell_type": "markdown",
   "metadata": {
    "id": "hOhqDRz618Tx"
   },
   "source": [
    "### <a name='7'></a> Exercise 107\n",
    "To the following _quotations_ object:\n",
    "```\n",
    "stocks = {'PLW': 387.00, 'CDR': 339.5, 'TEN': 349.5, '11B': 391.0}\n",
    "quotations = pd.Series(data=stocks)\n",
    "```\n",
    "Add two elements:\n",
    "* key: BBT, value: 25.5\n",
    "* key: F51, value: 19.2\n",
    "\n",
    "__Expected result:__\n",
    "```\n",
    "PLW    387.0\n",
    "CDR    339.5\n",
    "TEN    349.5\n",
    "11B    391.0\n",
    "BBT     25.5\n",
    "F51     19.2\n",
    "dtype: float64\n",
    "```\n"
   ]
  },
  {
   "cell_type": "code",
   "execution_count": 24,
   "metadata": {
    "id": "rNm1p2iGPA_T"
   },
   "outputs": [
    {
     "data": {
      "text/plain": [
       "PLW    387.0\n",
       "CDR    339.5\n",
       "TEN    349.5\n",
       "11B    391.0\n",
       "BBT     25.5\n",
       "F51     19.2\n",
       "dtype: float64"
      ]
     },
     "execution_count": 24,
     "metadata": {},
     "output_type": "execute_result"
    }
   ],
   "source": [
    "stocks = {'PLW': 387.00, 'CDR': 339.5, 'TEN': 349.5, '11B': 391.0}\n",
    "quotations = pd.Series(data=stocks)\n",
    "quotations['BBT'] = 25.5\n",
    "quotations['F51'] = 19.2\n",
    "quotations"
   ]
  },
  {
   "cell_type": "markdown",
   "metadata": {
    "id": "TXUd_4631-gw"
   },
   "source": [
    "### <a name='8'></a> Exercise 108\n",
    "Convert the _quotations_ object from the previous exercise to an _DataFrame_ object. Reset the index and name the columns '_ticker_' and _'price'_."
   ]
  },
  {
   "cell_type": "code",
   "execution_count": 28,
   "metadata": {
    "id": "v3VyxIyDPHIB"
   },
   "outputs": [
    {
     "data": {
      "text/html": [
       "<div>\n",
       "<style scoped>\n",
       "    .dataframe tbody tr th:only-of-type {\n",
       "        vertical-align: middle;\n",
       "    }\n",
       "\n",
       "    .dataframe tbody tr th {\n",
       "        vertical-align: top;\n",
       "    }\n",
       "\n",
       "    .dataframe thead th {\n",
       "        text-align: right;\n",
       "    }\n",
       "</style>\n",
       "<table border=\"1\" class=\"dataframe\">\n",
       "  <thead>\n",
       "    <tr style=\"text-align: right;\">\n",
       "      <th></th>\n",
       "      <th>ticker</th>\n",
       "      <th>price</th>\n",
       "    </tr>\n",
       "  </thead>\n",
       "  <tbody>\n",
       "    <tr>\n",
       "      <th>0</th>\n",
       "      <td>PLW</td>\n",
       "      <td>387.0</td>\n",
       "    </tr>\n",
       "    <tr>\n",
       "      <th>1</th>\n",
       "      <td>CDR</td>\n",
       "      <td>339.5</td>\n",
       "    </tr>\n",
       "    <tr>\n",
       "      <th>2</th>\n",
       "      <td>TEN</td>\n",
       "      <td>349.5</td>\n",
       "    </tr>\n",
       "    <tr>\n",
       "      <th>3</th>\n",
       "      <td>11B</td>\n",
       "      <td>391.0</td>\n",
       "    </tr>\n",
       "    <tr>\n",
       "      <th>4</th>\n",
       "      <td>BBT</td>\n",
       "      <td>25.5</td>\n",
       "    </tr>\n",
       "    <tr>\n",
       "      <th>5</th>\n",
       "      <td>F51</td>\n",
       "      <td>19.2</td>\n",
       "    </tr>\n",
       "  </tbody>\n",
       "</table>\n",
       "</div>"
      ],
      "text/plain": [
       "  ticker  price\n",
       "0    PLW  387.0\n",
       "1    CDR  339.5\n",
       "2    TEN  349.5\n",
       "3    11B  391.0\n",
       "4    BBT   25.5\n",
       "5    F51   19.2"
      ]
     },
     "execution_count": 28,
     "metadata": {},
     "output_type": "execute_result"
    }
   ],
   "source": [
    "quotations = pd.DataFrame(quotations).reset_index()\n",
    "quotations.columns = ['ticker', 'price']\n",
    "\n",
    "quotations"
   ]
  },
  {
   "cell_type": "markdown",
   "metadata": {
    "id": "tgI6xEn-2AQo"
   },
   "source": [
    "### <a name='9'></a> Exercise 109\n",
    "\n",
    "Build the _DataFrame_ object below and assign it to the _companies_ variable:\n",
    "\n",
    "|    | company   |   price | ticker   |\n",
    "|---:|:----------|--------:|:---------|\n",
    "|  0 | Amazon    |  2375   | AMZN.US  |\n",
    "|  1 | Microsoft |   178.6 | MSFT.US  |\n",
    "|  2 | Facebook  |   179.2 | FB.US    |\n"
   ]
  },
  {
   "cell_type": "code",
   "execution_count": 40,
   "metadata": {
    "id": "_9M05ezFPOVz"
   },
   "outputs": [
    {
     "data": {
      "text/html": [
       "<div>\n",
       "<style scoped>\n",
       "    .dataframe tbody tr th:only-of-type {\n",
       "        vertical-align: middle;\n",
       "    }\n",
       "\n",
       "    .dataframe tbody tr th {\n",
       "        vertical-align: top;\n",
       "    }\n",
       "\n",
       "    .dataframe thead th {\n",
       "        text-align: right;\n",
       "    }\n",
       "</style>\n",
       "<table border=\"1\" class=\"dataframe\">\n",
       "  <thead>\n",
       "    <tr style=\"text-align: right;\">\n",
       "      <th></th>\n",
       "      <th>company</th>\n",
       "      <th>price</th>\n",
       "      <th>ticker</th>\n",
       "    </tr>\n",
       "  </thead>\n",
       "  <tbody>\n",
       "    <tr>\n",
       "      <th>0</th>\n",
       "      <td>Amazon</td>\n",
       "      <td>2375.0</td>\n",
       "      <td>AMZN.US</td>\n",
       "    </tr>\n",
       "    <tr>\n",
       "      <th>1</th>\n",
       "      <td>Microsoft</td>\n",
       "      <td>178.6</td>\n",
       "      <td>MSFT.US</td>\n",
       "    </tr>\n",
       "    <tr>\n",
       "      <th>2</th>\n",
       "      <td>Facebook</td>\n",
       "      <td>179.2</td>\n",
       "      <td>FB.US</td>\n",
       "    </tr>\n",
       "  </tbody>\n",
       "</table>\n",
       "</div>"
      ],
      "text/plain": [
       "     company   price   ticker\n",
       "0     Amazon  2375.0  AMZN.US\n",
       "1  Microsoft   178.6  MSFT.US\n",
       "2   Facebook   179.2    FB.US"
      ]
     },
     "execution_count": 40,
     "metadata": {},
     "output_type": "execute_result"
    }
   ],
   "source": [
    "companiesDict = {'company': ['Amazon', 'Microsoft', 'Facebook'], \n",
    "            'price':[2375, 178.6, 179.2], \n",
    "            'ticker':['AMZN.US', 'MSFT.US', 'FB.US']}\n",
    "companies = pd.DataFrame(companiesDict)\n",
    "companies"
   ]
  },
  {
   "cell_type": "markdown",
   "metadata": {
    "id": "wxhpf-uq2B1I"
   },
   "source": [
    "### <a name='10'></a> Exercise 110\n",
    "Convert the first column of the _companies_ object to an index.\n"
   ]
  },
  {
   "cell_type": "code",
   "execution_count": 43,
   "metadata": {
    "id": "YFc0KW6URsuc"
   },
   "outputs": [],
   "source": [
    "companies = companies.set_index('company')"
   ]
  },
  {
   "cell_type": "markdown",
   "metadata": {
    "id": "nW_9JLS5PVSu"
   },
   "source": [
    "Extract row for company _Facebook_ from object _companies_."
   ]
  },
  {
   "cell_type": "code",
   "execution_count": 44,
   "metadata": {
    "id": "iDCnF7iUPTJf"
   },
   "outputs": [
    {
     "data": {
      "text/plain": [
       "price     179.2\n",
       "ticker    FB.US\n",
       "Name: Facebook, dtype: object"
      ]
     },
     "execution_count": 44,
     "metadata": {},
     "output_type": "execute_result"
    }
   ],
   "source": [
    "companies.loc[\"Facebook\"]"
   ]
  },
  {
   "cell_type": "markdown",
   "metadata": {
    "id": "D1qn3t5HPZwg"
   },
   "source": [
    "Extract price for _Microsoft_"
   ]
  },
  {
   "cell_type": "code",
   "execution_count": 45,
   "metadata": {
    "id": "FcPjSj7dPXwn"
   },
   "outputs": [
    {
     "data": {
      "text/plain": [
       "178.6"
      ]
     },
     "execution_count": 45,
     "metadata": {},
     "output_type": "execute_result"
    }
   ],
   "source": [
    "companies.loc[\"Microsoft\"]['price']"
   ]
  }
 ],
 "metadata": {
  "colab": {
   "collapsed_sections": [],
   "name": "101-110_exercises.ipynb",
   "provenance": []
  },
  "kernelspec": {
   "display_name": "Python 3",
   "language": "python",
   "name": "python3"
  },
  "language_info": {
   "codemirror_mode": {
    "name": "ipython",
    "version": 3
   },
   "file_extension": ".py",
   "mimetype": "text/x-python",
   "name": "python",
   "nbconvert_exporter": "python",
   "pygments_lexer": "ipython3",
   "version": "3.8.8"
  }
 },
 "nbformat": 4,
 "nbformat_minor": 1
}
