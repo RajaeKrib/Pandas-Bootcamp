{
 "cells": [
  {
   "cell_type": "markdown",
   "metadata": {
    "id": "WLEgCW5F1hho"
   },
   "source": [
    "## Pandas\n",
    "\n",
    "### Table of contents:\n",
    "* [Import biblioteki](#0)\n",
    "* [Exercise 151](#1)\n",
    "* [Exercise 152](#2)\n",
    "* [Exercise 153](#3)\n",
    "* [Exercise 154](#4)\n",
    "* [Exercise 155](#5)\n",
    "* [Exercise 156](#6)\n",
    "* [Exercise 157](#7)\n",
    "* [Exercise 158](#8)\n",
    "* [Exercise 159](#9)\n",
    "* [Exercise 160](#10)"
   ]
  },
  {
   "cell_type": "markdown",
   "metadata": {
    "id": "zeLOLmTj1kBM"
   },
   "source": [
    "### <a name='0'></a> Import of libraries"
   ]
  },
  {
   "cell_type": "code",
   "execution_count": 1,
   "metadata": {
    "id": "HXMB7SMe1Wnz"
   },
   "outputs": [
    {
     "data": {
      "text/plain": [
       "'1.19.2'"
      ]
     },
     "execution_count": 1,
     "metadata": {},
     "output_type": "execute_result"
    }
   ],
   "source": [
    "import numpy as np\n",
    "import pandas as pd\n",
    "\n",
    "np.random.seed(42)\n",
    "np.__version__"
   ]
  },
  {
   "cell_type": "markdown",
   "metadata": {
    "id": "cyc70pMe1oCg"
   },
   "source": [
    "### <a name='1'></a> Exercise 151\n",
    "The following _DataFrame_ object is given:\n",
    "```\n",
    "df = pd.DataFrame(np.random.rand(10, 4), columns=list('ABCD'))\n",
    "```\n",
    "\n"
   ]
  },
  {
   "cell_type": "code",
   "execution_count": 18,
   "metadata": {
    "id": "MZl4Y7-iOL0B"
   },
   "outputs": [],
   "source": [
    "df = pd.DataFrame(np.random.rand(10, 4), columns=list('ABCD'))"
   ]
  },
  {
   "cell_type": "markdown",
   "metadata": {
    "id": "bel_QayIOPKm"
   },
   "source": [
    "Extract the rows of the _df_ object for which the _C_ column is greater than 0.8."
   ]
  },
  {
   "cell_type": "code",
   "execution_count": 3,
   "metadata": {
    "id": "pkCB7a2cOUTm"
   },
   "outputs": [
    {
     "data": {
      "text/html": [
       "<div>\n",
       "<style scoped>\n",
       "    .dataframe tbody tr th:only-of-type {\n",
       "        vertical-align: middle;\n",
       "    }\n",
       "\n",
       "    .dataframe tbody tr th {\n",
       "        vertical-align: top;\n",
       "    }\n",
       "\n",
       "    .dataframe thead th {\n",
       "        text-align: right;\n",
       "    }\n",
       "</style>\n",
       "<table border=\"1\" class=\"dataframe\">\n",
       "  <thead>\n",
       "    <tr style=\"text-align: right;\">\n",
       "      <th></th>\n",
       "      <th>A</th>\n",
       "      <th>B</th>\n",
       "      <th>C</th>\n",
       "      <th>D</th>\n",
       "    </tr>\n",
       "  </thead>\n",
       "  <tbody>\n",
       "    <tr>\n",
       "      <th>8</th>\n",
       "      <td>0.065052</td>\n",
       "      <td>0.948886</td>\n",
       "      <td>0.965632</td>\n",
       "      <td>0.808397</td>\n",
       "    </tr>\n",
       "  </tbody>\n",
       "</table>\n",
       "</div>"
      ],
      "text/plain": [
       "          A         B         C         D\n",
       "8  0.065052  0.948886  0.965632  0.808397"
      ]
     },
     "execution_count": 3,
     "metadata": {},
     "output_type": "execute_result"
    }
   ],
   "source": [
    "df[df['C'] > 0.8]"
   ]
  },
  {
   "cell_type": "markdown",
   "metadata": {
    "id": "J9pY1rtr1sC0"
   },
   "source": [
    "### <a name='2'></a> Exercise 152\n",
    "Extract the rows of the _df_ object for which the _C_ column is greater than 0.3 and the _D_ column is less than 0.7."
   ]
  },
  {
   "cell_type": "code",
   "execution_count": 4,
   "metadata": {
    "id": "Sxu6AJUEOb-g"
   },
   "outputs": [
    {
     "data": {
      "text/html": [
       "<div>\n",
       "<style scoped>\n",
       "    .dataframe tbody tr th:only-of-type {\n",
       "        vertical-align: middle;\n",
       "    }\n",
       "\n",
       "    .dataframe tbody tr th {\n",
       "        vertical-align: top;\n",
       "    }\n",
       "\n",
       "    .dataframe thead th {\n",
       "        text-align: right;\n",
       "    }\n",
       "</style>\n",
       "<table border=\"1\" class=\"dataframe\">\n",
       "  <thead>\n",
       "    <tr style=\"text-align: right;\">\n",
       "      <th></th>\n",
       "      <th>A</th>\n",
       "      <th>B</th>\n",
       "      <th>C</th>\n",
       "      <th>D</th>\n",
       "    </tr>\n",
       "  </thead>\n",
       "  <tbody>\n",
       "    <tr>\n",
       "      <th>0</th>\n",
       "      <td>0.374540</td>\n",
       "      <td>0.950714</td>\n",
       "      <td>0.731994</td>\n",
       "      <td>0.598658</td>\n",
       "    </tr>\n",
       "    <tr>\n",
       "      <th>4</th>\n",
       "      <td>0.304242</td>\n",
       "      <td>0.524756</td>\n",
       "      <td>0.431945</td>\n",
       "      <td>0.291229</td>\n",
       "    </tr>\n",
       "    <tr>\n",
       "      <th>7</th>\n",
       "      <td>0.592415</td>\n",
       "      <td>0.046450</td>\n",
       "      <td>0.607545</td>\n",
       "      <td>0.170524</td>\n",
       "    </tr>\n",
       "    <tr>\n",
       "      <th>9</th>\n",
       "      <td>0.304614</td>\n",
       "      <td>0.097672</td>\n",
       "      <td>0.684233</td>\n",
       "      <td>0.440152</td>\n",
       "    </tr>\n",
       "  </tbody>\n",
       "</table>\n",
       "</div>"
      ],
      "text/plain": [
       "          A         B         C         D\n",
       "0  0.374540  0.950714  0.731994  0.598658\n",
       "4  0.304242  0.524756  0.431945  0.291229\n",
       "7  0.592415  0.046450  0.607545  0.170524\n",
       "9  0.304614  0.097672  0.684233  0.440152"
      ]
     },
     "execution_count": 4,
     "metadata": {},
     "output_type": "execute_result"
    }
   ],
   "source": [
    "df[(df['C'] > 0.3) & (df['D'] < 0.7)]"
   ]
  },
  {
   "cell_type": "markdown",
   "metadata": {
    "id": "XQLYT2m11wVG"
   },
   "source": [
    "### <a name='3'></a> Exercise 153\n",
    "Iterate through the first five rows of the _df_ object. Print each row to the console.\n",
    "\n",
    "__Tip:__ Use the _pd.DataFrame.iterrows()_ function."
   ]
  },
  {
   "cell_type": "code",
   "execution_count": 7,
   "metadata": {
    "id": "HInZ5tgDOlMr"
   },
   "outputs": [
    {
     "name": "stdout",
     "output_type": "stream",
     "text": [
      "A    0.374540\n",
      "B    0.950714\n",
      "C    0.731994\n",
      "D    0.598658\n",
      "Name: 0, dtype: float64\n",
      "A    0.156019\n",
      "B    0.155995\n",
      "C    0.058084\n",
      "D    0.866176\n",
      "Name: 1, dtype: float64\n",
      "A    0.601115\n",
      "B    0.708073\n",
      "C    0.020584\n",
      "D    0.969910\n",
      "Name: 2, dtype: float64\n",
      "A    0.832443\n",
      "B    0.212339\n",
      "C    0.181825\n",
      "D    0.183405\n",
      "Name: 3, dtype: float64\n",
      "A    0.304242\n",
      "B    0.524756\n",
      "C    0.431945\n",
      "D    0.291229\n",
      "Name: 4, dtype: float64\n"
     ]
    }
   ],
   "source": [
    "for index, row in df.head().iterrows():\n",
    "    print(row)"
   ]
  },
  {
   "cell_type": "markdown",
   "metadata": {
    "id": "4xTKSUzg10MK"
   },
   "source": [
    "### <a name='4'></a> Exercise 154\n",
    "Set the value in row with index 3 for column B as _np.nan_.\n",
    "Use _df.iloc_."
   ]
  },
  {
   "cell_type": "code",
   "execution_count": 19,
   "metadata": {
    "id": "wkf2ocZYOrRX"
   },
   "outputs": [
    {
     "data": {
      "text/html": [
       "<div>\n",
       "<style scoped>\n",
       "    .dataframe tbody tr th:only-of-type {\n",
       "        vertical-align: middle;\n",
       "    }\n",
       "\n",
       "    .dataframe tbody tr th {\n",
       "        vertical-align: top;\n",
       "    }\n",
       "\n",
       "    .dataframe thead th {\n",
       "        text-align: right;\n",
       "    }\n",
       "</style>\n",
       "<table border=\"1\" class=\"dataframe\">\n",
       "  <thead>\n",
       "    <tr style=\"text-align: right;\">\n",
       "      <th></th>\n",
       "      <th>A</th>\n",
       "      <th>B</th>\n",
       "      <th>C</th>\n",
       "      <th>D</th>\n",
       "    </tr>\n",
       "  </thead>\n",
       "  <tbody>\n",
       "    <tr>\n",
       "      <th>0</th>\n",
       "      <td>0.863103</td>\n",
       "      <td>0.623298</td>\n",
       "      <td>0.330898</td>\n",
       "      <td>0.063558</td>\n",
       "    </tr>\n",
       "    <tr>\n",
       "      <th>1</th>\n",
       "      <td>0.310982</td>\n",
       "      <td>0.325183</td>\n",
       "      <td>0.729606</td>\n",
       "      <td>0.637557</td>\n",
       "    </tr>\n",
       "    <tr>\n",
       "      <th>2</th>\n",
       "      <td>0.887213</td>\n",
       "      <td>0.472215</td>\n",
       "      <td>0.119594</td>\n",
       "      <td>0.713245</td>\n",
       "    </tr>\n",
       "    <tr>\n",
       "      <th>3</th>\n",
       "      <td>0.760785</td>\n",
       "      <td>0.561277</td>\n",
       "      <td>NaN</td>\n",
       "      <td>0.493796</td>\n",
       "    </tr>\n",
       "    <tr>\n",
       "      <th>4</th>\n",
       "      <td>0.522733</td>\n",
       "      <td>0.427541</td>\n",
       "      <td>0.025419</td>\n",
       "      <td>0.107891</td>\n",
       "    </tr>\n",
       "    <tr>\n",
       "      <th>5</th>\n",
       "      <td>0.031429</td>\n",
       "      <td>0.636410</td>\n",
       "      <td>0.314356</td>\n",
       "      <td>0.508571</td>\n",
       "    </tr>\n",
       "    <tr>\n",
       "      <th>6</th>\n",
       "      <td>0.907566</td>\n",
       "      <td>0.249292</td>\n",
       "      <td>0.410383</td>\n",
       "      <td>0.755551</td>\n",
       "    </tr>\n",
       "    <tr>\n",
       "      <th>7</th>\n",
       "      <td>0.228798</td>\n",
       "      <td>0.076980</td>\n",
       "      <td>0.289751</td>\n",
       "      <td>0.161221</td>\n",
       "    </tr>\n",
       "    <tr>\n",
       "      <th>8</th>\n",
       "      <td>0.929698</td>\n",
       "      <td>0.808120</td>\n",
       "      <td>0.633404</td>\n",
       "      <td>0.871461</td>\n",
       "    </tr>\n",
       "    <tr>\n",
       "      <th>9</th>\n",
       "      <td>0.803672</td>\n",
       "      <td>0.186570</td>\n",
       "      <td>0.892559</td>\n",
       "      <td>0.539342</td>\n",
       "    </tr>\n",
       "  </tbody>\n",
       "</table>\n",
       "</div>"
      ],
      "text/plain": [
       "          A         B         C         D\n",
       "0  0.863103  0.623298  0.330898  0.063558\n",
       "1  0.310982  0.325183  0.729606  0.637557\n",
       "2  0.887213  0.472215  0.119594  0.713245\n",
       "3  0.760785  0.561277       NaN  0.493796\n",
       "4  0.522733  0.427541  0.025419  0.107891\n",
       "5  0.031429  0.636410  0.314356  0.508571\n",
       "6  0.907566  0.249292  0.410383  0.755551\n",
       "7  0.228798  0.076980  0.289751  0.161221\n",
       "8  0.929698  0.808120  0.633404  0.871461\n",
       "9  0.803672  0.186570  0.892559  0.539342"
      ]
     },
     "execution_count": 19,
     "metadata": {},
     "output_type": "execute_result"
    }
   ],
   "source": [
    "df.iloc[3]['C'] = np.nan\n",
    "df"
   ]
  },
  {
   "cell_type": "markdown",
   "metadata": {
    "id": "JFVQOgU2OtB_"
   },
   "source": [
    "Set the value in the row at index 8 for column D as _np.nan_. Use _df.loc_."
   ]
  },
  {
   "cell_type": "code",
   "execution_count": 20,
   "metadata": {
    "id": "97ocfWFyOv4_"
   },
   "outputs": [
    {
     "data": {
      "text/html": [
       "<div>\n",
       "<style scoped>\n",
       "    .dataframe tbody tr th:only-of-type {\n",
       "        vertical-align: middle;\n",
       "    }\n",
       "\n",
       "    .dataframe tbody tr th {\n",
       "        vertical-align: top;\n",
       "    }\n",
       "\n",
       "    .dataframe thead th {\n",
       "        text-align: right;\n",
       "    }\n",
       "</style>\n",
       "<table border=\"1\" class=\"dataframe\">\n",
       "  <thead>\n",
       "    <tr style=\"text-align: right;\">\n",
       "      <th></th>\n",
       "      <th>A</th>\n",
       "      <th>B</th>\n",
       "      <th>C</th>\n",
       "      <th>D</th>\n",
       "    </tr>\n",
       "  </thead>\n",
       "  <tbody>\n",
       "    <tr>\n",
       "      <th>0</th>\n",
       "      <td>0.863103</td>\n",
       "      <td>0.623298</td>\n",
       "      <td>0.330898</td>\n",
       "      <td>0.063558</td>\n",
       "    </tr>\n",
       "    <tr>\n",
       "      <th>1</th>\n",
       "      <td>0.310982</td>\n",
       "      <td>0.325183</td>\n",
       "      <td>0.729606</td>\n",
       "      <td>0.637557</td>\n",
       "    </tr>\n",
       "    <tr>\n",
       "      <th>2</th>\n",
       "      <td>0.887213</td>\n",
       "      <td>0.472215</td>\n",
       "      <td>0.119594</td>\n",
       "      <td>0.713245</td>\n",
       "    </tr>\n",
       "    <tr>\n",
       "      <th>3</th>\n",
       "      <td>0.760785</td>\n",
       "      <td>0.561277</td>\n",
       "      <td>NaN</td>\n",
       "      <td>0.493796</td>\n",
       "    </tr>\n",
       "    <tr>\n",
       "      <th>4</th>\n",
       "      <td>0.522733</td>\n",
       "      <td>0.427541</td>\n",
       "      <td>0.025419</td>\n",
       "      <td>0.107891</td>\n",
       "    </tr>\n",
       "    <tr>\n",
       "      <th>5</th>\n",
       "      <td>0.031429</td>\n",
       "      <td>0.636410</td>\n",
       "      <td>0.314356</td>\n",
       "      <td>0.508571</td>\n",
       "    </tr>\n",
       "    <tr>\n",
       "      <th>6</th>\n",
       "      <td>0.907566</td>\n",
       "      <td>0.249292</td>\n",
       "      <td>0.410383</td>\n",
       "      <td>0.755551</td>\n",
       "    </tr>\n",
       "    <tr>\n",
       "      <th>7</th>\n",
       "      <td>0.228798</td>\n",
       "      <td>0.076980</td>\n",
       "      <td>0.289751</td>\n",
       "      <td>0.161221</td>\n",
       "    </tr>\n",
       "    <tr>\n",
       "      <th>8</th>\n",
       "      <td>0.929698</td>\n",
       "      <td>0.808120</td>\n",
       "      <td>0.633404</td>\n",
       "      <td>NaN</td>\n",
       "    </tr>\n",
       "    <tr>\n",
       "      <th>9</th>\n",
       "      <td>0.803672</td>\n",
       "      <td>0.186570</td>\n",
       "      <td>0.892559</td>\n",
       "      <td>0.539342</td>\n",
       "    </tr>\n",
       "  </tbody>\n",
       "</table>\n",
       "</div>"
      ],
      "text/plain": [
       "          A         B         C         D\n",
       "0  0.863103  0.623298  0.330898  0.063558\n",
       "1  0.310982  0.325183  0.729606  0.637557\n",
       "2  0.887213  0.472215  0.119594  0.713245\n",
       "3  0.760785  0.561277       NaN  0.493796\n",
       "4  0.522733  0.427541  0.025419  0.107891\n",
       "5  0.031429  0.636410  0.314356  0.508571\n",
       "6  0.907566  0.249292  0.410383  0.755551\n",
       "7  0.228798  0.076980  0.289751  0.161221\n",
       "8  0.929698  0.808120  0.633404       NaN\n",
       "9  0.803672  0.186570  0.892559  0.539342"
      ]
     },
     "execution_count": 20,
     "metadata": {},
     "output_type": "execute_result"
    }
   ],
   "source": [
    "df.loc[8][\"D\"] = np.nan\n",
    "df"
   ]
  },
  {
   "cell_type": "markdown",
   "metadata": {
    "id": "o3HKIKlP15Ro"
   },
   "source": [
    "### <a name='5'></a> Exercise 155\n",
    "Delete all rows from object _df_ containing missing values and assign to variable _df1_. Display variable _df1_."
   ]
  },
  {
   "cell_type": "code",
   "execution_count": 24,
   "metadata": {
    "id": "nEFg-QlJO22V"
   },
   "outputs": [
    {
     "data": {
      "text/html": [
       "<div>\n",
       "<style scoped>\n",
       "    .dataframe tbody tr th:only-of-type {\n",
       "        vertical-align: middle;\n",
       "    }\n",
       "\n",
       "    .dataframe tbody tr th {\n",
       "        vertical-align: top;\n",
       "    }\n",
       "\n",
       "    .dataframe thead th {\n",
       "        text-align: right;\n",
       "    }\n",
       "</style>\n",
       "<table border=\"1\" class=\"dataframe\">\n",
       "  <thead>\n",
       "    <tr style=\"text-align: right;\">\n",
       "      <th></th>\n",
       "      <th>A</th>\n",
       "      <th>B</th>\n",
       "      <th>C</th>\n",
       "      <th>D</th>\n",
       "    </tr>\n",
       "  </thead>\n",
       "  <tbody>\n",
       "    <tr>\n",
       "      <th>0</th>\n",
       "      <td>0.863103</td>\n",
       "      <td>0.623298</td>\n",
       "      <td>0.330898</td>\n",
       "      <td>0.063558</td>\n",
       "    </tr>\n",
       "    <tr>\n",
       "      <th>1</th>\n",
       "      <td>0.310982</td>\n",
       "      <td>0.325183</td>\n",
       "      <td>0.729606</td>\n",
       "      <td>0.637557</td>\n",
       "    </tr>\n",
       "    <tr>\n",
       "      <th>2</th>\n",
       "      <td>0.887213</td>\n",
       "      <td>0.472215</td>\n",
       "      <td>0.119594</td>\n",
       "      <td>0.713245</td>\n",
       "    </tr>\n",
       "    <tr>\n",
       "      <th>4</th>\n",
       "      <td>0.522733</td>\n",
       "      <td>0.427541</td>\n",
       "      <td>0.025419</td>\n",
       "      <td>0.107891</td>\n",
       "    </tr>\n",
       "    <tr>\n",
       "      <th>5</th>\n",
       "      <td>0.031429</td>\n",
       "      <td>0.636410</td>\n",
       "      <td>0.314356</td>\n",
       "      <td>0.508571</td>\n",
       "    </tr>\n",
       "    <tr>\n",
       "      <th>6</th>\n",
       "      <td>0.907566</td>\n",
       "      <td>0.249292</td>\n",
       "      <td>0.410383</td>\n",
       "      <td>0.755551</td>\n",
       "    </tr>\n",
       "    <tr>\n",
       "      <th>7</th>\n",
       "      <td>0.228798</td>\n",
       "      <td>0.076980</td>\n",
       "      <td>0.289751</td>\n",
       "      <td>0.161221</td>\n",
       "    </tr>\n",
       "    <tr>\n",
       "      <th>9</th>\n",
       "      <td>0.803672</td>\n",
       "      <td>0.186570</td>\n",
       "      <td>0.892559</td>\n",
       "      <td>0.539342</td>\n",
       "    </tr>\n",
       "  </tbody>\n",
       "</table>\n",
       "</div>"
      ],
      "text/plain": [
       "          A         B         C         D\n",
       "0  0.863103  0.623298  0.330898  0.063558\n",
       "1  0.310982  0.325183  0.729606  0.637557\n",
       "2  0.887213  0.472215  0.119594  0.713245\n",
       "4  0.522733  0.427541  0.025419  0.107891\n",
       "5  0.031429  0.636410  0.314356  0.508571\n",
       "6  0.907566  0.249292  0.410383  0.755551\n",
       "7  0.228798  0.076980  0.289751  0.161221\n",
       "9  0.803672  0.186570  0.892559  0.539342"
      ]
     },
     "execution_count": 24,
     "metadata": {},
     "output_type": "execute_result"
    }
   ],
   "source": [
    "df1 = df.dropna()\n",
    "df1"
   ]
  },
  {
   "cell_type": "markdown",
   "metadata": {
    "id": "PunXd_Ey16so"
   },
   "source": [
    "### <a name='6'></a> Exercise 156\n",
    "Note that the index after removing two rows in the _df1_ object is not in turn. Reset the index (do not add a new column, just reset the index). Display variable _df1_."
   ]
  },
  {
   "cell_type": "code",
   "execution_count": 25,
   "metadata": {
    "id": "Td2kgzk_PKK7"
   },
   "outputs": [
    {
     "data": {
      "text/html": [
       "<div>\n",
       "<style scoped>\n",
       "    .dataframe tbody tr th:only-of-type {\n",
       "        vertical-align: middle;\n",
       "    }\n",
       "\n",
       "    .dataframe tbody tr th {\n",
       "        vertical-align: top;\n",
       "    }\n",
       "\n",
       "    .dataframe thead th {\n",
       "        text-align: right;\n",
       "    }\n",
       "</style>\n",
       "<table border=\"1\" class=\"dataframe\">\n",
       "  <thead>\n",
       "    <tr style=\"text-align: right;\">\n",
       "      <th></th>\n",
       "      <th>A</th>\n",
       "      <th>B</th>\n",
       "      <th>C</th>\n",
       "      <th>D</th>\n",
       "    </tr>\n",
       "  </thead>\n",
       "  <tbody>\n",
       "    <tr>\n",
       "      <th>0</th>\n",
       "      <td>0.863103</td>\n",
       "      <td>0.623298</td>\n",
       "      <td>0.330898</td>\n",
       "      <td>0.063558</td>\n",
       "    </tr>\n",
       "    <tr>\n",
       "      <th>1</th>\n",
       "      <td>0.310982</td>\n",
       "      <td>0.325183</td>\n",
       "      <td>0.729606</td>\n",
       "      <td>0.637557</td>\n",
       "    </tr>\n",
       "    <tr>\n",
       "      <th>2</th>\n",
       "      <td>0.887213</td>\n",
       "      <td>0.472215</td>\n",
       "      <td>0.119594</td>\n",
       "      <td>0.713245</td>\n",
       "    </tr>\n",
       "    <tr>\n",
       "      <th>3</th>\n",
       "      <td>0.522733</td>\n",
       "      <td>0.427541</td>\n",
       "      <td>0.025419</td>\n",
       "      <td>0.107891</td>\n",
       "    </tr>\n",
       "    <tr>\n",
       "      <th>4</th>\n",
       "      <td>0.031429</td>\n",
       "      <td>0.636410</td>\n",
       "      <td>0.314356</td>\n",
       "      <td>0.508571</td>\n",
       "    </tr>\n",
       "    <tr>\n",
       "      <th>5</th>\n",
       "      <td>0.907566</td>\n",
       "      <td>0.249292</td>\n",
       "      <td>0.410383</td>\n",
       "      <td>0.755551</td>\n",
       "    </tr>\n",
       "    <tr>\n",
       "      <th>6</th>\n",
       "      <td>0.228798</td>\n",
       "      <td>0.076980</td>\n",
       "      <td>0.289751</td>\n",
       "      <td>0.161221</td>\n",
       "    </tr>\n",
       "    <tr>\n",
       "      <th>7</th>\n",
       "      <td>0.803672</td>\n",
       "      <td>0.186570</td>\n",
       "      <td>0.892559</td>\n",
       "      <td>0.539342</td>\n",
       "    </tr>\n",
       "  </tbody>\n",
       "</table>\n",
       "</div>"
      ],
      "text/plain": [
       "          A         B         C         D\n",
       "0  0.863103  0.623298  0.330898  0.063558\n",
       "1  0.310982  0.325183  0.729606  0.637557\n",
       "2  0.887213  0.472215  0.119594  0.713245\n",
       "3  0.522733  0.427541  0.025419  0.107891\n",
       "4  0.031429  0.636410  0.314356  0.508571\n",
       "5  0.907566  0.249292  0.410383  0.755551\n",
       "6  0.228798  0.076980  0.289751  0.161221\n",
       "7  0.803672  0.186570  0.892559  0.539342"
      ]
     },
     "execution_count": 25,
     "metadata": {},
     "output_type": "execute_result"
    }
   ],
   "source": [
    "df1.reset_index(drop=True)"
   ]
  },
  {
   "cell_type": "markdown",
   "metadata": {
    "id": "hOhqDRz618Tx"
   },
   "source": [
    "### <a name='7'></a> Exercise 157\n",
    "Let's go back to the _df_  object. Determine the number of missing elements in the _df_ object for each column."
   ]
  },
  {
   "cell_type": "code",
   "execution_count": 26,
   "metadata": {
    "id": "QarTBttNPUAT"
   },
   "outputs": [
    {
     "data": {
      "text/plain": [
       "A    0\n",
       "B    0\n",
       "C    1\n",
       "D    1\n",
       "dtype: int64"
      ]
     },
     "execution_count": 26,
     "metadata": {},
     "output_type": "execute_result"
    }
   ],
   "source": [
    "df.isnull().sum()"
   ]
  },
  {
   "cell_type": "markdown",
   "metadata": {
    "id": "TXUd_4631-gw"
   },
   "source": [
    "### <a name='8'></a> Exercise 158\n",
    "Fill in the missing values with the value 0 and assign to the variable _df_.\n"
   ]
  },
  {
   "cell_type": "code",
   "execution_count": 27,
   "metadata": {
    "id": "qBYDXCuOPaZv"
   },
   "outputs": [
    {
     "data": {
      "text/html": [
       "<div>\n",
       "<style scoped>\n",
       "    .dataframe tbody tr th:only-of-type {\n",
       "        vertical-align: middle;\n",
       "    }\n",
       "\n",
       "    .dataframe tbody tr th {\n",
       "        vertical-align: top;\n",
       "    }\n",
       "\n",
       "    .dataframe thead th {\n",
       "        text-align: right;\n",
       "    }\n",
       "</style>\n",
       "<table border=\"1\" class=\"dataframe\">\n",
       "  <thead>\n",
       "    <tr style=\"text-align: right;\">\n",
       "      <th></th>\n",
       "      <th>A</th>\n",
       "      <th>B</th>\n",
       "      <th>C</th>\n",
       "      <th>D</th>\n",
       "    </tr>\n",
       "  </thead>\n",
       "  <tbody>\n",
       "    <tr>\n",
       "      <th>0</th>\n",
       "      <td>0.863103</td>\n",
       "      <td>0.623298</td>\n",
       "      <td>0.330898</td>\n",
       "      <td>0.063558</td>\n",
       "    </tr>\n",
       "    <tr>\n",
       "      <th>1</th>\n",
       "      <td>0.310982</td>\n",
       "      <td>0.325183</td>\n",
       "      <td>0.729606</td>\n",
       "      <td>0.637557</td>\n",
       "    </tr>\n",
       "    <tr>\n",
       "      <th>2</th>\n",
       "      <td>0.887213</td>\n",
       "      <td>0.472215</td>\n",
       "      <td>0.119594</td>\n",
       "      <td>0.713245</td>\n",
       "    </tr>\n",
       "    <tr>\n",
       "      <th>3</th>\n",
       "      <td>0.760785</td>\n",
       "      <td>0.561277</td>\n",
       "      <td>0.000000</td>\n",
       "      <td>0.493796</td>\n",
       "    </tr>\n",
       "    <tr>\n",
       "      <th>4</th>\n",
       "      <td>0.522733</td>\n",
       "      <td>0.427541</td>\n",
       "      <td>0.025419</td>\n",
       "      <td>0.107891</td>\n",
       "    </tr>\n",
       "    <tr>\n",
       "      <th>5</th>\n",
       "      <td>0.031429</td>\n",
       "      <td>0.636410</td>\n",
       "      <td>0.314356</td>\n",
       "      <td>0.508571</td>\n",
       "    </tr>\n",
       "    <tr>\n",
       "      <th>6</th>\n",
       "      <td>0.907566</td>\n",
       "      <td>0.249292</td>\n",
       "      <td>0.410383</td>\n",
       "      <td>0.755551</td>\n",
       "    </tr>\n",
       "    <tr>\n",
       "      <th>7</th>\n",
       "      <td>0.228798</td>\n",
       "      <td>0.076980</td>\n",
       "      <td>0.289751</td>\n",
       "      <td>0.161221</td>\n",
       "    </tr>\n",
       "    <tr>\n",
       "      <th>8</th>\n",
       "      <td>0.929698</td>\n",
       "      <td>0.808120</td>\n",
       "      <td>0.633404</td>\n",
       "      <td>0.000000</td>\n",
       "    </tr>\n",
       "    <tr>\n",
       "      <th>9</th>\n",
       "      <td>0.803672</td>\n",
       "      <td>0.186570</td>\n",
       "      <td>0.892559</td>\n",
       "      <td>0.539342</td>\n",
       "    </tr>\n",
       "  </tbody>\n",
       "</table>\n",
       "</div>"
      ],
      "text/plain": [
       "          A         B         C         D\n",
       "0  0.863103  0.623298  0.330898  0.063558\n",
       "1  0.310982  0.325183  0.729606  0.637557\n",
       "2  0.887213  0.472215  0.119594  0.713245\n",
       "3  0.760785  0.561277  0.000000  0.493796\n",
       "4  0.522733  0.427541  0.025419  0.107891\n",
       "5  0.031429  0.636410  0.314356  0.508571\n",
       "6  0.907566  0.249292  0.410383  0.755551\n",
       "7  0.228798  0.076980  0.289751  0.161221\n",
       "8  0.929698  0.808120  0.633404  0.000000\n",
       "9  0.803672  0.186570  0.892559  0.539342"
      ]
     },
     "execution_count": 27,
     "metadata": {},
     "output_type": "execute_result"
    }
   ],
   "source": [
    "df = df.fillna(0)\n",
    "df"
   ]
  },
  {
   "cell_type": "markdown",
   "metadata": {
    "id": "tgI6xEn-2AQo"
   },
   "source": [
    "### <a name='9'></a> Exercise 159\n",
    "Replace the order of the columns in the _df_ object with the one given below:\n",
    "* D, A, B, C\n",
    "\n",
    "and assign to _df_."
   ]
  },
  {
   "cell_type": "code",
   "execution_count": 29,
   "metadata": {
    "id": "oryAFo18Pguv"
   },
   "outputs": [
    {
     "data": {
      "text/html": [
       "<div>\n",
       "<style scoped>\n",
       "    .dataframe tbody tr th:only-of-type {\n",
       "        vertical-align: middle;\n",
       "    }\n",
       "\n",
       "    .dataframe tbody tr th {\n",
       "        vertical-align: top;\n",
       "    }\n",
       "\n",
       "    .dataframe thead th {\n",
       "        text-align: right;\n",
       "    }\n",
       "</style>\n",
       "<table border=\"1\" class=\"dataframe\">\n",
       "  <thead>\n",
       "    <tr style=\"text-align: right;\">\n",
       "      <th></th>\n",
       "      <th>D</th>\n",
       "      <th>A</th>\n",
       "      <th>B</th>\n",
       "      <th>C</th>\n",
       "    </tr>\n",
       "  </thead>\n",
       "  <tbody>\n",
       "    <tr>\n",
       "      <th>0</th>\n",
       "      <td>0.063558</td>\n",
       "      <td>0.863103</td>\n",
       "      <td>0.623298</td>\n",
       "      <td>0.330898</td>\n",
       "    </tr>\n",
       "    <tr>\n",
       "      <th>1</th>\n",
       "      <td>0.637557</td>\n",
       "      <td>0.310982</td>\n",
       "      <td>0.325183</td>\n",
       "      <td>0.729606</td>\n",
       "    </tr>\n",
       "    <tr>\n",
       "      <th>2</th>\n",
       "      <td>0.713245</td>\n",
       "      <td>0.887213</td>\n",
       "      <td>0.472215</td>\n",
       "      <td>0.119594</td>\n",
       "    </tr>\n",
       "    <tr>\n",
       "      <th>3</th>\n",
       "      <td>0.493796</td>\n",
       "      <td>0.760785</td>\n",
       "      <td>0.561277</td>\n",
       "      <td>0.000000</td>\n",
       "    </tr>\n",
       "    <tr>\n",
       "      <th>4</th>\n",
       "      <td>0.107891</td>\n",
       "      <td>0.522733</td>\n",
       "      <td>0.427541</td>\n",
       "      <td>0.025419</td>\n",
       "    </tr>\n",
       "    <tr>\n",
       "      <th>5</th>\n",
       "      <td>0.508571</td>\n",
       "      <td>0.031429</td>\n",
       "      <td>0.636410</td>\n",
       "      <td>0.314356</td>\n",
       "    </tr>\n",
       "    <tr>\n",
       "      <th>6</th>\n",
       "      <td>0.755551</td>\n",
       "      <td>0.907566</td>\n",
       "      <td>0.249292</td>\n",
       "      <td>0.410383</td>\n",
       "    </tr>\n",
       "    <tr>\n",
       "      <th>7</th>\n",
       "      <td>0.161221</td>\n",
       "      <td>0.228798</td>\n",
       "      <td>0.076980</td>\n",
       "      <td>0.289751</td>\n",
       "    </tr>\n",
       "    <tr>\n",
       "      <th>8</th>\n",
       "      <td>0.000000</td>\n",
       "      <td>0.929698</td>\n",
       "      <td>0.808120</td>\n",
       "      <td>0.633404</td>\n",
       "    </tr>\n",
       "    <tr>\n",
       "      <th>9</th>\n",
       "      <td>0.539342</td>\n",
       "      <td>0.803672</td>\n",
       "      <td>0.186570</td>\n",
       "      <td>0.892559</td>\n",
       "    </tr>\n",
       "  </tbody>\n",
       "</table>\n",
       "</div>"
      ],
      "text/plain": [
       "          D         A         B         C\n",
       "0  0.063558  0.863103  0.623298  0.330898\n",
       "1  0.637557  0.310982  0.325183  0.729606\n",
       "2  0.713245  0.887213  0.472215  0.119594\n",
       "3  0.493796  0.760785  0.561277  0.000000\n",
       "4  0.107891  0.522733  0.427541  0.025419\n",
       "5  0.508571  0.031429  0.636410  0.314356\n",
       "6  0.755551  0.907566  0.249292  0.410383\n",
       "7  0.161221  0.228798  0.076980  0.289751\n",
       "8  0.000000  0.929698  0.808120  0.633404\n",
       "9  0.539342  0.803672  0.186570  0.892559"
      ]
     },
     "execution_count": 29,
     "metadata": {},
     "output_type": "execute_result"
    }
   ],
   "source": [
    "df = df[[\"D\", \"A\", \"B\", \"C\"]]\n",
    "df"
   ]
  },
  {
   "cell_type": "markdown",
   "metadata": {
    "id": "wxhpf-uq2B1I"
   },
   "source": [
    "### <a name='10'></a> Exercise 160\n",
    "Remove the $ D $ column from the _df_ object."
   ]
  },
  {
   "cell_type": "code",
   "execution_count": 31,
   "metadata": {
    "id": "YFc0KW6URsuc"
   },
   "outputs": [
    {
     "data": {
      "text/html": [
       "<div>\n",
       "<style scoped>\n",
       "    .dataframe tbody tr th:only-of-type {\n",
       "        vertical-align: middle;\n",
       "    }\n",
       "\n",
       "    .dataframe tbody tr th {\n",
       "        vertical-align: top;\n",
       "    }\n",
       "\n",
       "    .dataframe thead th {\n",
       "        text-align: right;\n",
       "    }\n",
       "</style>\n",
       "<table border=\"1\" class=\"dataframe\">\n",
       "  <thead>\n",
       "    <tr style=\"text-align: right;\">\n",
       "      <th></th>\n",
       "      <th>A</th>\n",
       "      <th>B</th>\n",
       "      <th>C</th>\n",
       "    </tr>\n",
       "  </thead>\n",
       "  <tbody>\n",
       "    <tr>\n",
       "      <th>0</th>\n",
       "      <td>0.863103</td>\n",
       "      <td>0.623298</td>\n",
       "      <td>0.330898</td>\n",
       "    </tr>\n",
       "    <tr>\n",
       "      <th>1</th>\n",
       "      <td>0.310982</td>\n",
       "      <td>0.325183</td>\n",
       "      <td>0.729606</td>\n",
       "    </tr>\n",
       "    <tr>\n",
       "      <th>2</th>\n",
       "      <td>0.887213</td>\n",
       "      <td>0.472215</td>\n",
       "      <td>0.119594</td>\n",
       "    </tr>\n",
       "    <tr>\n",
       "      <th>3</th>\n",
       "      <td>0.760785</td>\n",
       "      <td>0.561277</td>\n",
       "      <td>0.000000</td>\n",
       "    </tr>\n",
       "    <tr>\n",
       "      <th>4</th>\n",
       "      <td>0.522733</td>\n",
       "      <td>0.427541</td>\n",
       "      <td>0.025419</td>\n",
       "    </tr>\n",
       "    <tr>\n",
       "      <th>5</th>\n",
       "      <td>0.031429</td>\n",
       "      <td>0.636410</td>\n",
       "      <td>0.314356</td>\n",
       "    </tr>\n",
       "    <tr>\n",
       "      <th>6</th>\n",
       "      <td>0.907566</td>\n",
       "      <td>0.249292</td>\n",
       "      <td>0.410383</td>\n",
       "    </tr>\n",
       "    <tr>\n",
       "      <th>7</th>\n",
       "      <td>0.228798</td>\n",
       "      <td>0.076980</td>\n",
       "      <td>0.289751</td>\n",
       "    </tr>\n",
       "    <tr>\n",
       "      <th>8</th>\n",
       "      <td>0.929698</td>\n",
       "      <td>0.808120</td>\n",
       "      <td>0.633404</td>\n",
       "    </tr>\n",
       "    <tr>\n",
       "      <th>9</th>\n",
       "      <td>0.803672</td>\n",
       "      <td>0.186570</td>\n",
       "      <td>0.892559</td>\n",
       "    </tr>\n",
       "  </tbody>\n",
       "</table>\n",
       "</div>"
      ],
      "text/plain": [
       "          A         B         C\n",
       "0  0.863103  0.623298  0.330898\n",
       "1  0.310982  0.325183  0.729606\n",
       "2  0.887213  0.472215  0.119594\n",
       "3  0.760785  0.561277  0.000000\n",
       "4  0.522733  0.427541  0.025419\n",
       "5  0.031429  0.636410  0.314356\n",
       "6  0.907566  0.249292  0.410383\n",
       "7  0.228798  0.076980  0.289751\n",
       "8  0.929698  0.808120  0.633404\n",
       "9  0.803672  0.186570  0.892559"
      ]
     },
     "execution_count": 31,
     "metadata": {},
     "output_type": "execute_result"
    }
   ],
   "source": [
    "df.drop(\"D\", axis =1)"
   ]
  }
 ],
 "metadata": {
  "colab": {
   "collapsed_sections": [],
   "name": "151-160_exercises.ipynb",
   "provenance": []
  },
  "kernelspec": {
   "display_name": "Python 3",
   "language": "python",
   "name": "python3"
  },
  "language_info": {
   "codemirror_mode": {
    "name": "ipython",
    "version": 3
   },
   "file_extension": ".py",
   "mimetype": "text/x-python",
   "name": "python",
   "nbconvert_exporter": "python",
   "pygments_lexer": "ipython3",
   "version": "3.8.8"
  }
 },
 "nbformat": 4,
 "nbformat_minor": 1
}
